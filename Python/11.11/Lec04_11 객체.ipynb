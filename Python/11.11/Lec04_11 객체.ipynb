{
 "cells": [
  {
   "cell_type": "markdown",
   "id": "39250cc4",
   "metadata": {},
   "source": [
    "### 클래스(class) 필드, 메소드\n",
    "### 객체(object) 인스턴스"
   ]
  },
  {
   "cell_type": "code",
   "execution_count": 1,
   "id": "28327b5a",
   "metadata": {},
   "outputs": [],
   "source": [
    "class Cat():\n",
    "    pass"
   ]
  },
  {
   "cell_type": "code",
   "execution_count": 3,
   "id": "a0ad1272",
   "metadata": {},
   "outputs": [],
   "source": [
    "a_cat = Cat()\n",
    "another_cat = Cat()"
   ]
  },
  {
   "cell_type": "code",
   "execution_count": 4,
   "id": "9e9234cb",
   "metadata": {},
   "outputs": [],
   "source": [
    "class Cat:\n",
    "    def __init__(self, name, weight):\n",
    "        self.name = name\n",
    "        self.weight = weight"
   ]
  },
  {
   "cell_type": "code",
   "execution_count": 5,
   "id": "1f8f9ebb",
   "metadata": {},
   "outputs": [],
   "source": [
    "my_cat = Cat('kitty',30)"
   ]
  },
  {
   "cell_type": "code",
   "execution_count": 7,
   "id": "eab36708",
   "metadata": {},
   "outputs": [
    {
     "data": {
      "text/plain": [
       "('kitty', 30)"
      ]
     },
     "execution_count": 7,
     "metadata": {},
     "output_type": "execute_result"
    }
   ],
   "source": [
    "my_cat.name, my_cat.weight"
   ]
  },
  {
   "cell_type": "code",
   "execution_count": 20,
   "id": "4dc69ab2",
   "metadata": {},
   "outputs": [],
   "source": [
    "class Car():\n",
    "    def exclaim(self):\n",
    "        print(\"나는 자동차!!!\")"
   ]
  },
  {
   "cell_type": "code",
   "execution_count": 21,
   "id": "2c702183",
   "metadata": {},
   "outputs": [],
   "source": [
    "class Yugo(Car):\n",
    "    def exclaim(self):\n",
    "        print(\"나는 자동차 같은 유고\")"
   ]
  },
  {
   "cell_type": "code",
   "execution_count": 22,
   "id": "d559906e",
   "metadata": {},
   "outputs": [],
   "source": [
    "give_me_a_car = Car()\n",
    "give_me_a_yugo = Yugo()"
   ]
  },
  {
   "cell_type": "code",
   "execution_count": 23,
   "id": "a6e70ce9",
   "metadata": {},
   "outputs": [
    {
     "name": "stdout",
     "output_type": "stream",
     "text": [
      "나는 자동차!!!\n",
      "나는 자동차 같은 유고\n"
     ]
    }
   ],
   "source": [
    "give_me_a_car.exclaim()\n",
    "give_me_a_yugo.exclaim()"
   ]
  },
  {
   "cell_type": "code",
   "execution_count": 24,
   "id": "74b8a3b2",
   "metadata": {},
   "outputs": [
    {
     "name": "stdout",
     "output_type": "stream",
     "text": [
      "<__main__.Yugo object at 0x000001A0F6D91AF0>\n"
     ]
    }
   ],
   "source": [
    "give_me_a_yugo\n",
    "print(give_me_a_yugo)"
   ]
  },
  {
   "cell_type": "code",
   "execution_count": 32,
   "id": "44b28278",
   "metadata": {},
   "outputs": [],
   "source": [
    "class Car():\n",
    "    def exclaim(self):\n",
    "        print(\"나는 자동차!!!\")\n",
    "    def __str__(self):\n",
    "        return \"Car\"\n",
    "    def __repr__(self):\n",
    "        return \"Class Car\""
   ]
  },
  {
   "cell_type": "code",
   "execution_count": 33,
   "id": "83627bd5",
   "metadata": {},
   "outputs": [],
   "source": [
    "class Yugo(Car):\n",
    "    def exclaim(self):\n",
    "        print(\"나는 자동차 같은 유고\")"
   ]
  },
  {
   "cell_type": "code",
   "execution_count": 36,
   "id": "c693e3ff",
   "metadata": {},
   "outputs": [
    {
     "data": {
      "text/plain": [
       "(Class Car, Class Car)"
      ]
     },
     "execution_count": 36,
     "metadata": {},
     "output_type": "execute_result"
    }
   ],
   "source": [
    "give_me_a_car = Car()\n",
    "give_me_a_yugo = Yugo()\n",
    "give_me_a_car, give_me_a_yugo"
   ]
  },
  {
   "cell_type": "code",
   "execution_count": 31,
   "id": "a0210960",
   "metadata": {},
   "outputs": [
    {
     "data": {
      "text/plain": [
       "Class Car"
      ]
     },
     "execution_count": 31,
     "metadata": {},
     "output_type": "execute_result"
    }
   ],
   "source": [
    "give_me_a_car\n",
    "#print(give_me_a_car)"
   ]
  },
  {
   "cell_type": "code",
   "execution_count": 35,
   "id": "9f52171f",
   "metadata": {},
   "outputs": [
    {
     "data": {
      "text/plain": [
       "Class Car"
      ]
     },
     "execution_count": 35,
     "metadata": {},
     "output_type": "execute_result"
    }
   ],
   "source": [
    "give_me_a_yugo\n",
    "# print(give_me_a_yugo)"
   ]
  },
  {
   "cell_type": "code",
   "execution_count": 37,
   "id": "c1102d8a",
   "metadata": {},
   "outputs": [],
   "source": [
    "a = list(range(1, 30))"
   ]
  },
  {
   "cell_type": "code",
   "execution_count": 38,
   "id": "d011b0d2",
   "metadata": {},
   "outputs": [
    {
     "data": {
      "text/plain": [
       "[1,\n",
       " 2,\n",
       " 3,\n",
       " 4,\n",
       " 5,\n",
       " 6,\n",
       " 7,\n",
       " 8,\n",
       " 9,\n",
       " 10,\n",
       " 11,\n",
       " 12,\n",
       " 13,\n",
       " 14,\n",
       " 15,\n",
       " 16,\n",
       " 17,\n",
       " 18,\n",
       " 19,\n",
       " 20,\n",
       " 21,\n",
       " 22,\n",
       " 23,\n",
       " 24,\n",
       " 25,\n",
       " 26,\n",
       " 27,\n",
       " 28,\n",
       " 29]"
      ]
     },
     "execution_count": 38,
     "metadata": {},
     "output_type": "execute_result"
    }
   ],
   "source": [
    "a"
   ]
  },
  {
   "cell_type": "code",
   "execution_count": 39,
   "id": "b34d84ea",
   "metadata": {},
   "outputs": [
    {
     "name": "stdout",
     "output_type": "stream",
     "text": [
      "[1, 2, 3, 4, 5, 6, 7, 8, 9, 10, 11, 12, 13, 14, 15, 16, 17, 18, 19, 20, 21, 22, 23, 24, 25, 26, 27, 28, 29]\n"
     ]
    }
   ],
   "source": [
    "print(a)"
   ]
  },
  {
   "cell_type": "code",
   "execution_count": 40,
   "id": "09aaa421",
   "metadata": {},
   "outputs": [
    {
     "data": {
      "text/plain": [
       "1790841486912"
      ]
     },
     "execution_count": 40,
     "metadata": {},
     "output_type": "execute_result"
    }
   ],
   "source": [
    "id(a)"
   ]
  },
  {
   "cell_type": "code",
   "execution_count": 41,
   "id": "bf7a02f6",
   "metadata": {},
   "outputs": [
    {
     "data": {
      "text/plain": [
       "'[1, 2, 3, 4, 5, 6, 7, 8, 9, 10, 11, 12, 13, 14, 15, 16, 17, 18, 19, 20, 21, 22, 23, 24, 25, 26, 27, 28, 29]'"
      ]
     },
     "execution_count": 41,
     "metadata": {},
     "output_type": "execute_result"
    }
   ],
   "source": [
    "a.__str__()"
   ]
  },
  {
   "cell_type": "code",
   "execution_count": 42,
   "id": "69419a25",
   "metadata": {},
   "outputs": [
    {
     "data": {
      "text/plain": [
       "'[1, 2, 3, 4, 5, 6, 7, 8, 9, 10, 11, 12, 13, 14, 15, 16, 17, 18, 19, 20, 21, 22, 23, 24, 25, 26, 27, 28, 29]'"
      ]
     },
     "execution_count": 42,
     "metadata": {},
     "output_type": "execute_result"
    }
   ],
   "source": [
    "a.__repr__()"
   ]
  },
  {
   "cell_type": "code",
   "execution_count": 44,
   "id": "50dd2ace",
   "metadata": {},
   "outputs": [],
   "source": [
    "class Duck:\n",
    "    def __init__(self, input_name):\n",
    "        self.name = input_name"
   ]
  },
  {
   "cell_type": "code",
   "execution_count": 45,
   "id": "86d39b2e",
   "metadata": {},
   "outputs": [],
   "source": [
    "fowl = Duck('Daffy')"
   ]
  },
  {
   "cell_type": "code",
   "execution_count": 47,
   "id": "dcdde34f",
   "metadata": {},
   "outputs": [],
   "source": [
    "fowl.name\n",
    "fowl.name = 'Daphne'"
   ]
  },
  {
   "cell_type": "code",
   "execution_count": 48,
   "id": "82998230",
   "metadata": {},
   "outputs": [
    {
     "data": {
      "text/plain": [
       "'Daphne'"
      ]
     },
     "execution_count": 48,
     "metadata": {},
     "output_type": "execute_result"
    }
   ],
   "source": [
    "fowl.name"
   ]
  },
  {
   "cell_type": "code",
   "execution_count": 51,
   "id": "c3a554ae",
   "metadata": {},
   "outputs": [],
   "source": [
    "class Duck():\n",
    "    def __init__(self, input_name):\n",
    "        self.hidden_name = input_name\n",
    "    def get_name(self):\n",
    "        print('inside the getter')\n",
    "        return self.hidden_name\n",
    "    def set_name(self, input_name):\n",
    "        print('inside the setter')\n",
    "        self.hidden_name = input_name"
   ]
  },
  {
   "cell_type": "code",
   "execution_count": 55,
   "id": "7200261f",
   "metadata": {},
   "outputs": [
    {
     "name": "stdout",
     "output_type": "stream",
     "text": [
      "inside the getter\n",
      "inside the setter\n",
      "inside the getter\n"
     ]
    },
    {
     "data": {
      "text/plain": [
       "'철수'"
      ]
     },
     "execution_count": 55,
     "metadata": {},
     "output_type": "execute_result"
    }
   ],
   "source": [
    "don = Duck('Donald')\n",
    "don.get_name()\n",
    "don.set_name('철수')\n",
    "don.get_name()"
   ]
  },
  {
   "cell_type": "code",
   "execution_count": 56,
   "id": "9b102b23",
   "metadata": {},
   "outputs": [],
   "source": [
    "class Duck():\n",
    "    def __init__(self, input_name):\n",
    "        self.hidden_name = input_name\n",
    "    @property\n",
    "    def name(self):\n",
    "        print('inside the getter')\n",
    "        return self.hidden_name\n",
    "    @name.setter\n",
    "    def name(self, input_name):\n",
    "        print('inside the setter')\n",
    "        self.hidden_name = input_name"
   ]
  },
  {
   "cell_type": "code",
   "execution_count": 57,
   "id": "d6af99c1",
   "metadata": {},
   "outputs": [],
   "source": [
    "fowl = Duck('Howard')"
   ]
  },
  {
   "cell_type": "code",
   "execution_count": 58,
   "id": "d9670b53",
   "metadata": {},
   "outputs": [
    {
     "name": "stdout",
     "output_type": "stream",
     "text": [
      "inside the getter\n"
     ]
    },
    {
     "data": {
      "text/plain": [
       "'Howard'"
      ]
     },
     "execution_count": 58,
     "metadata": {},
     "output_type": "execute_result"
    }
   ],
   "source": [
    "fowl.name"
   ]
  },
  {
   "cell_type": "code",
   "execution_count": 59,
   "id": "353aa252",
   "metadata": {},
   "outputs": [
    {
     "name": "stdout",
     "output_type": "stream",
     "text": [
      "inside the setter\n"
     ]
    }
   ],
   "source": [
    "fowl.name = 'Donald'"
   ]
  },
  {
   "cell_type": "code",
   "execution_count": 60,
   "id": "7abc18ab",
   "metadata": {},
   "outputs": [
    {
     "name": "stdout",
     "output_type": "stream",
     "text": [
      "inside the getter\n"
     ]
    },
    {
     "data": {
      "text/plain": [
       "'Donald'"
      ]
     },
     "execution_count": 60,
     "metadata": {},
     "output_type": "execute_result"
    }
   ],
   "source": [
    "fowl.name"
   ]
  },
  {
   "cell_type": "code",
   "execution_count": 62,
   "id": "d493f286",
   "metadata": {},
   "outputs": [],
   "source": [
    "class Duck():\n",
    "    def __init__(self, input_name):\n",
    "        self.__name = input_name\n",
    "    @property\n",
    "    def name(self):\n",
    "        print('inside the getter')\n",
    "        return self.__name\n",
    "    @name.setter\n",
    "    def name(self, input_name):\n",
    "        print('inside the setter')\n",
    "        self.__name = input_name"
   ]
  },
  {
   "cell_type": "code",
   "execution_count": 63,
   "id": "a58ea316",
   "metadata": {},
   "outputs": [],
   "source": [
    "fowl = Duck('Howard')"
   ]
  },
  {
   "cell_type": "code",
   "execution_count": 65,
   "id": "a55a0abd",
   "metadata": {},
   "outputs": [
    {
     "name": "stdout",
     "output_type": "stream",
     "text": [
      "inside the setter\n"
     ]
    }
   ],
   "source": [
    "fowl.name = 'Donald'"
   ]
  },
  {
   "cell_type": "code",
   "execution_count": 68,
   "id": "fedfb745",
   "metadata": {},
   "outputs": [
    {
     "data": {
      "text/plain": [
       "'Donald'"
      ]
     },
     "execution_count": 68,
     "metadata": {},
     "output_type": "execute_result"
    }
   ],
   "source": [
    "fowl._Duck__name"
   ]
  },
  {
   "cell_type": "code",
   "execution_count": 70,
   "id": "4ff827b3",
   "metadata": {},
   "outputs": [
    {
     "data": {
      "text/plain": [
       "__main__.Duck"
      ]
     },
     "execution_count": 70,
     "metadata": {},
     "output_type": "execute_result"
    }
   ],
   "source": [
    "type(fowl)"
   ]
  },
  {
   "cell_type": "code",
   "execution_count": 85,
   "id": "e4e97c6d",
   "metadata": {},
   "outputs": [],
   "source": [
    "class Word:\n",
    "    def __init__(self, text):\n",
    "        self.text = text\n",
    "    def equals(self, words):\n",
    "        return self.text.lower() == words.text.lower()\n",
    "    def __eq__(self, words):\n",
    "        return self.text.lower() == words.text.lower()\n",
    "    def __str__(self):\n",
    "        return self.text\n",
    "    def __repr__(self):\n",
    "        return \"Word('\"+self.text+\"')\"\n",
    "    def __add__(self, other):\n",
    "        return self.text+\" \"+other.text\n",
    "    def __sub__(self, other):\n",
    "        return self.text.replace(other.text, \"\")"
   ]
  },
  {
   "cell_type": "code",
   "execution_count": 86,
   "id": "54861541",
   "metadata": {},
   "outputs": [
    {
     "data": {
      "text/plain": [
       "'studen class  stair'"
      ]
     },
     "execution_count": 86,
     "metadata": {},
     "output_type": "execute_result"
    }
   ],
   "source": [
    "word1 = Word('Love')\n",
    "word2 = Word('love')\n",
    "word1.equals(word2)\n",
    "word1 ==  word2\n",
    "word1, word2\n",
    "word1 + word2\n",
    "word3 = Word(\"studen class room stair\")\n",
    "word4 = Word(\"room\")\n",
    "word3 - word4"
   ]
  },
  {
   "cell_type": "code",
   "execution_count": 73,
   "id": "9e418d02",
   "metadata": {},
   "outputs": [
    {
     "data": {
      "text/plain": [
       "(True, True)"
      ]
     },
     "execution_count": 73,
     "metadata": {},
     "output_type": "execute_result"
    }
   ],
   "source": [
    "'ab' == 'ab', 'Ab'.lower() == 'ab'.lower()"
   ]
  },
  {
   "cell_type": "code",
   "execution_count": null,
   "id": "d475eea7",
   "metadata": {},
   "outputs": [],
   "source": []
  }
 ],
 "metadata": {
  "kernelspec": {
   "display_name": "Python 3",
   "language": "python",
   "name": "python3"
  },
  "language_info": {
   "codemirror_mode": {
    "name": "ipython",
    "version": 3
   },
   "file_extension": ".py",
   "mimetype": "text/x-python",
   "name": "python",
   "nbconvert_exporter": "python",
   "pygments_lexer": "ipython3",
   "version": "3.8.8"
  }
 },
 "nbformat": 4,
 "nbformat_minor": 5
}
