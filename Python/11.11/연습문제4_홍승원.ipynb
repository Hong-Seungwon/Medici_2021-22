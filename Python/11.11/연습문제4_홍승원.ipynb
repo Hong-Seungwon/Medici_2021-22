{
 "cells": [
  {
   "cell_type": "markdown",
   "id": "07457b21",
   "metadata": {},
   "source": [
    "### capsule"
   ]
  },
  {
   "cell_type": "code",
   "execution_count": 3,
   "id": "58c8fc0d",
   "metadata": {},
   "outputs": [
    {
     "name": "stdout",
     "output_type": "stream",
     "text": [
      "잔액은 9000원입니다.\n"
     ]
    }
   ],
   "source": [
    "balance = 8000\n",
    "\n",
    "def deposit(money):\n",
    "    global balance\n",
    "    balance += money\n",
    "    \n",
    "def inquire():\n",
    "    print(\"잔액은 %d원입니다.\" % balance)\n",
    "    \n",
    "deposit(1000)\n",
    "inquire()"
   ]
  },
  {
   "cell_type": "markdown",
   "id": "a25f65f1",
   "metadata": {},
   "source": [
    "### account"
   ]
  },
  {
   "cell_type": "code",
   "execution_count": 4,
   "id": "61a81b29",
   "metadata": {},
   "outputs": [
    {
     "name": "stdout",
     "output_type": "stream",
     "text": [
      "잔액은 9000원입니다.\n",
      "잔액은 1200000원입니다.\n"
     ]
    }
   ],
   "source": [
    "class Account:\n",
    "    def __init__(self, balance):\n",
    "        self.balance = balance\n",
    "    def deposit(self, money):\n",
    "        self.balance += money\n",
    "    def inquire(self):\n",
    "        print(\"잔액은 %d원입니다.\" % self.balance)\n",
    "\n",
    "sinhan = Account(8000)\n",
    "sinhan.deposit(1000)\n",
    "sinhan.inquire()\n",
    "\n",
    "nonghyup = Account(1200000)\n",
    "nonghyup.inquire()"
   ]
  },
  {
   "cell_type": "markdown",
   "id": "3e3343a8",
   "metadata": {},
   "source": [
    "### human"
   ]
  },
  {
   "cell_type": "code",
   "execution_count": 6,
   "id": "ae35561f",
   "metadata": {},
   "outputs": [
    {
     "name": "stdout",
     "output_type": "stream",
     "text": [
      "29살홍길동입니다.\n",
      "45살이승우입니다.\n"
     ]
    }
   ],
   "source": [
    "class Human:\n",
    "    def __init__(self, age, name):\n",
    "        self.age = age\n",
    "        self.name = name\n",
    "    def intro(self):\n",
    "        print(str(self.age) + \"살\" + self.name + \"입니다.\")\n",
    "        \n",
    "kim = Human(29, \"홍길동\")\n",
    "kim.intro()\n",
    "lee = Human(45, \"이승우\")\n",
    "lee.intro()"
   ]
  },
  {
   "cell_type": "markdown",
   "id": "aeaf3e72",
   "metadata": {},
   "source": [
    "### student"
   ]
  },
  {
   "cell_type": "code",
   "execution_count": 7,
   "id": "d3dc9ffc",
   "metadata": {},
   "outputs": [
    {
     "name": "stdout",
     "output_type": "stream",
     "text": [
      "29살홍길동입니다.\n",
      "34살이승우입니다.\n",
      "학번 :930011\n",
      "하늘천 따지 검을현 누를황\n"
     ]
    }
   ],
   "source": [
    "class Human:\n",
    "    def __init__(self, age, name):\n",
    "        self.age = age\n",
    "        self.name = name\n",
    "    def intro(self):\n",
    "        print(str(self.age) + \"살\" + self.name + \"입니다.\")\n",
    "        \n",
    "class Student(Human):\n",
    "    def __init__(self, age, name, stunum):\n",
    "        super().__init__(age, name)\n",
    "        self.stunum = stunum\n",
    "        \n",
    "    def intro(self):\n",
    "        super().intro()\n",
    "        print(\"학번 :\" + str(self.stunum))\n",
    "        \n",
    "    def study(self):\n",
    "        print(\"하늘천 따지 검을현 누를황\")\n",
    "        \n",
    "kim = Human(29, \"홍길동\")\n",
    "kim.intro()\n",
    "lee = Student(34, \"이승우\", 930011)\n",
    "lee.intro()\n",
    "lee.study()"
   ]
  },
  {
   "cell_type": "markdown",
   "id": "97039866",
   "metadata": {},
   "source": [
    "### getset"
   ]
  },
  {
   "cell_type": "code",
   "execution_count": 8,
   "id": "97326c6e",
   "metadata": {},
   "outputs": [
    {
     "name": "stdout",
     "output_type": "stream",
     "text": [
      "8\n"
     ]
    }
   ],
   "source": [
    "class Date:\n",
    "    def __init__(self, month):\n",
    "        self.month = month\n",
    "    def getmonth(self):\n",
    "        return self.month\n",
    "    def setmonth(self, month):\n",
    "        if 1 <= month <= 12:\n",
    "            self.month = month\n",
    "            \n",
    "today = Date(8)\n",
    "today.setmonth(15)\n",
    "print(today.getmonth())"
   ]
  },
  {
   "cell_type": "markdown",
   "id": "5816003a",
   "metadata": {},
   "source": [
    "### property"
   ]
  },
  {
   "cell_type": "code",
   "execution_count": 9,
   "id": "1f776877",
   "metadata": {},
   "outputs": [
    {
     "name": "stdout",
     "output_type": "stream",
     "text": [
      "8\n"
     ]
    }
   ],
   "source": [
    "class Date:\n",
    "    def __init__(self, month):\n",
    "        self.inner_month = month\n",
    "    def getmonth(self):\n",
    "        return self.inner_month\n",
    "    def setmonth(self, month):\n",
    "        if 1 <= month <= 12:\n",
    "            self.inner_month = month\n",
    "    month = property(getmonth, setmonth)\n",
    "    \n",
    "today = Date(8)\n",
    "today.month = 15\n",
    "print(today.month)"
   ]
  },
  {
   "cell_type": "markdown",
   "id": "29dc48cb",
   "metadata": {},
   "source": [
    "### property2"
   ]
  },
  {
   "cell_type": "code",
   "execution_count": 10,
   "id": "364334e5",
   "metadata": {},
   "outputs": [
    {
     "name": "stdout",
     "output_type": "stream",
     "text": [
      "8\n"
     ]
    }
   ],
   "source": [
    "class Date:\n",
    "    def __init__(self, month):\n",
    "        self.inner_month = month\n",
    "    @property\n",
    "    def month(self):\n",
    "        return self.inner_month\n",
    "    @month.setter\n",
    "    def month(self, month):\n",
    "        if 1 <= month <= 12:\n",
    "            self.inner_month = month\n",
    "    \n",
    "today = Date(8)\n",
    "today.month = 15\n",
    "print(today.month)"
   ]
  },
  {
   "cell_type": "markdown",
   "id": "bc7804dd",
   "metadata": {},
   "source": [
    "### hidden"
   ]
  },
  {
   "cell_type": "code",
   "execution_count": 11,
   "id": "fe433d8f",
   "metadata": {},
   "outputs": [
    {
     "name": "stdout",
     "output_type": "stream",
     "text": [
      "8\n"
     ]
    }
   ],
   "source": [
    "class Date:\n",
    "    def __init__(self, month):\n",
    "        self.__month = month\n",
    "    def getmonth(self):\n",
    "        return self.__month\n",
    "    def setmonth(self, month):\n",
    "        if 1 <= month <= 12:\n",
    "            self.__month = month\n",
    "    month = property(getmonth, setmonth)\n",
    "    \n",
    "today = Date(8)\n",
    "today.__month = 15\n",
    "print(today.month)"
   ]
  },
  {
   "cell_type": "markdown",
   "id": "77fc8a28",
   "metadata": {},
   "source": [
    "### classmethod"
   ]
  },
  {
   "cell_type": "code",
   "execution_count": 12,
   "id": "4b059751",
   "metadata": {},
   "outputs": [
    {
     "name": "stdout",
     "output_type": "stream",
     "text": [
      "2\n"
     ]
    }
   ],
   "source": [
    "class Car:\n",
    "    count = 0\n",
    "    def __init__(self, name):\n",
    "        self.name = name\n",
    "        Car.count += 1\n",
    "    @classmethod\n",
    "    def outcount(cls):\n",
    "        print(cls.count)\n",
    "        \n",
    "pride = Car(\"프라이드\")\n",
    "korando = Car(\"코란도\")\n",
    "Car.outcount()"
   ]
  },
  {
   "cell_type": "markdown",
   "id": "1c279b04",
   "metadata": {},
   "source": [
    "### staticmethod"
   ]
  },
  {
   "cell_type": "code",
   "execution_count": 13,
   "id": "e15d9d51",
   "metadata": {},
   "outputs": [
    {
     "name": "stdout",
     "output_type": "stream",
     "text": [
      "오늘도 안전 운행합시다.\n"
     ]
    }
   ],
   "source": [
    "class Car:\n",
    "    @staticmethod\n",
    "    def hello():\n",
    "        print(\"오늘도 안전 운행합시다.\")\n",
    "    count = 0\n",
    "    def __init__(self, name):\n",
    "        self.name = name\n",
    "        Car.count += 1\n",
    "    @classmethod\n",
    "    def outcount(cls):\n",
    "        print(cls.count)\n",
    "        \n",
    "Car.hello()"
   ]
  },
  {
   "cell_type": "markdown",
   "id": "e924c447",
   "metadata": {},
   "source": [
    "### eqop"
   ]
  },
  {
   "cell_type": "code",
   "execution_count": 16,
   "id": "e52d2ac0",
   "metadata": {},
   "outputs": [
    {
     "name": "stdout",
     "output_type": "stream",
     "text": [
      "True\n",
      "False\n"
     ]
    }
   ],
   "source": [
    "class Human:\n",
    "    def __init__(self, age, name):\n",
    "        self.age = age\n",
    "        self.name = name\n",
    "    def __eq__(self, other):\n",
    "        return self.age == other.age and self.name == other.name\n",
    "\n",
    "kim = Human(29, \"홍길동\")\n",
    "sang = Human(29, \"홍길동\")\n",
    "moon = Human(44, \"문종민\")\n",
    "print(kim == sang)\n",
    "print(kim == moon)"
   ]
  },
  {
   "cell_type": "markdown",
   "id": "9cd7f75f",
   "metadata": {},
   "source": [
    "### clsstr"
   ]
  },
  {
   "cell_type": "code",
   "execution_count": 17,
   "id": "bf1c9ca5",
   "metadata": {},
   "outputs": [
    {
     "name": "stdout",
     "output_type": "stream",
     "text": [
      "이름 홍길동, 나이 29\n"
     ]
    }
   ],
   "source": [
    "class Human:\n",
    "    def __init__(self, age, name):\n",
    "        self.age = age\n",
    "        self.name = name\n",
    "    def __str__(self):\n",
    "        return \"이름 %s, 나이 %d\" % (self.name, self.age)\n",
    "\n",
    "kim = Human(29, \"홍길동\")\n",
    "print(kim)"
   ]
  },
  {
   "cell_type": "markdown",
   "id": "d46a9ce3",
   "metadata": {},
   "source": [
    "### clslen"
   ]
  },
  {
   "cell_type": "code",
   "execution_count": 19,
   "id": "8e522c44",
   "metadata": {},
   "outputs": [
    {
     "name": "stdout",
     "output_type": "stream",
     "text": [
      "29\n"
     ]
    }
   ],
   "source": [
    "class Human:\n",
    "    def __init__(self, age, name):\n",
    "        self.age = age\n",
    "        self.name = name\n",
    "    def __len__(self):\n",
    "        return self.age\n",
    "    \n",
    "kim = Human(29, \"홍길동\")\n",
    "print(len(kim))"
   ]
  }
 ],
 "metadata": {
  "kernelspec": {
   "display_name": "Python 3",
   "language": "python",
   "name": "python3"
  },
  "language_info": {
   "codemirror_mode": {
    "name": "ipython",
    "version": 3
   },
   "file_extension": ".py",
   "mimetype": "text/x-python",
   "name": "python",
   "nbconvert_exporter": "python",
   "pygments_lexer": "ipython3",
   "version": "3.8.8"
  }
 },
 "nbformat": 4,
 "nbformat_minor": 5
}
