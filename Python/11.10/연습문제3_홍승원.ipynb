{
 "cells": [
  {
   "cell_type": "markdown",
   "id": "d70129c9",
   "metadata": {},
   "source": [
    "## calcsum"
   ]
  },
  {
   "cell_type": "code",
   "execution_count": 2,
   "id": "5e559e67",
   "metadata": {},
   "outputs": [
    {
     "name": "stdout",
     "output_type": "stream",
     "text": [
      "~ 4 = 4\n",
      "~ 10 = 10\n"
     ]
    }
   ],
   "source": [
    "def calcsum(n):\n",
    "    sum = 0\n",
    "    for num in range(n + 1):\n",
    "        sum += num\n",
    "    return num\n",
    "print(\"~ 4 =\", calcsum(4))\n",
    "print(\"~ 10 =\", calcsum(10))"
   ]
  },
  {
   "cell_type": "markdown",
   "id": "421090f8",
   "metadata": {},
   "source": [
    "### calcrange"
   ]
  },
  {
   "cell_type": "code",
   "execution_count": 3,
   "id": "65634eec",
   "metadata": {},
   "outputs": [
    {
     "name": "stdout",
     "output_type": "stream",
     "text": [
      "3 ~ 7 = 25\n"
     ]
    }
   ],
   "source": [
    "def calcrange(begin,end):\n",
    "    sum=0\n",
    "    for num in range(begin, end+1):\n",
    "        sum+=num\n",
    "    return sum\n",
    "print(\"3 ~ 7 =\", calcrange(3,7))"
   ]
  },
  {
   "cell_type": "markdown",
   "id": "fe3d5030",
   "metadata": {},
   "source": [
    "### printsum"
   ]
  },
  {
   "cell_type": "code",
   "execution_count": 4,
   "id": "28c2b093",
   "metadata": {},
   "outputs": [
    {
     "name": "stdout",
     "output_type": "stream",
     "text": [
      "~ 4 = 10\n",
      "~ 10 = 55\n"
     ]
    }
   ],
   "source": [
    "def printsum(n):\n",
    "    sum=0\n",
    "    for num in range(n+1):\n",
    "        sum+=num\n",
    "    print(\"~\", n, \"=\", sum)\n",
    "    \n",
    "printsum(4)\n",
    "printsum(10)"
   ]
  },
  {
   "cell_type": "markdown",
   "id": "d446e378",
   "metadata": {},
   "source": [
    "### vararg"
   ]
  },
  {
   "cell_type": "code",
   "execution_count": 5,
   "id": "f23adaaa",
   "metadata": {},
   "outputs": [
    {
     "name": "stdout",
     "output_type": "stream",
     "text": [
      "6\n",
      "45\n",
      "54\n"
     ]
    }
   ],
   "source": [
    "def intsum(*ints):\n",
    "    sum=0\n",
    "    for num in ints:\n",
    "        sum+=num\n",
    "    return sum\n",
    "\n",
    "print(intsum(1, 2, 3))\n",
    "print(intsum(5, 7, 9, 11, 13))\n",
    "print(intsum(8, 9, 6, 2, 9, 7, 5, 8))"
   ]
  },
  {
   "cell_type": "markdown",
   "id": "67004a86",
   "metadata": {},
   "source": [
    "### defaultarg"
   ]
  },
  {
   "cell_type": "code",
   "execution_count": 6,
   "id": "0b5f3385",
   "metadata": {},
   "outputs": [
    {
     "name": "stdout",
     "output_type": "stream",
     "text": [
      "1 ~ 10 = 25\n",
      "2 ~ 10 = 30\n"
     ]
    }
   ],
   "source": [
    "def calcstep(begin, end, step):\n",
    "    sum=0\n",
    "    for num in range(begin, end+1,step):\n",
    "        sum+=num\n",
    "    return sum\n",
    "\n",
    "print(\"1 ~ 10 =\", calcstep(1, 10, 2))\n",
    "print(\"2 ~ 10 =\", calcstep(2, 10, 2))"
   ]
  },
  {
   "cell_type": "markdown",
   "id": "c4ef01a6",
   "metadata": {},
   "source": [
    "### calcstep"
   ]
  },
  {
   "cell_type": "code",
   "execution_count": 8,
   "id": "b19e2d83",
   "metadata": {},
   "outputs": [
    {
     "name": "stdout",
     "output_type": "stream",
     "text": [
      "1 ~ 10 = 25\n",
      "1 ~ 100 = 5050\n"
     ]
    }
   ],
   "source": [
    "def calcstep(begin, end, step=1):\n",
    "    sum=0\n",
    "    for num in range(begin, end+1,step):\n",
    "        sum+=num\n",
    "    return sum\n",
    "\n",
    "print(\"1 ~ 10 =\", calcstep(1, 10, 2))\n",
    "print(\"1 ~ 100 =\", calcstep(1, 100))"
   ]
  },
  {
   "cell_type": "markdown",
   "id": "c8e6a0c4",
   "metadata": {},
   "source": [
    "### keywordarg"
   ]
  },
  {
   "cell_type": "code",
   "execution_count": 9,
   "id": "8a27b91e",
   "metadata": {},
   "outputs": [],
   "source": [
    "def calcstep(begin, end, step):\n",
    "    sum=0\n",
    "    for num in range(begin, end+1,step):\n",
    "        sum+=num\n",
    "    return sum"
   ]
  },
  {
   "cell_type": "markdown",
   "id": "d5044340",
   "metadata": {},
   "source": [
    "### keywordvararg"
   ]
  },
  {
   "cell_type": "code",
   "execution_count": 10,
   "id": "22a6cb22",
   "metadata": {},
   "outputs": [
    {
     "name": "stdout",
     "output_type": "stream",
     "text": [
      "3 ~ 5 = 12\n",
      "3 ~ 5 = 12\n"
     ]
    }
   ],
   "source": [
    "def calcstep(**args):\n",
    "    begin = args['begin']\n",
    "    end = args['end']\n",
    "    step = args['step']\n",
    "    \n",
    "    sum=0\n",
    "    for num in range(begin, end+1, step):\n",
    "        sum+=num\n",
    "    return sum\n",
    "\n",
    "print(\"3 ~ 5 =\", calcstep(begin=3, end=5, step=1))\n",
    "print(\"3 ~ 5 =\", calcstep(step=1,end=5,begin=3))"
   ]
  },
  {
   "cell_type": "markdown",
   "id": "f0905a00",
   "metadata": {},
   "source": [
    "### calcscore"
   ]
  },
  {
   "cell_type": "code",
   "execution_count": 11,
   "id": "ee3b068e",
   "metadata": {},
   "outputs": [
    {
     "name": "stdout",
     "output_type": "stream",
     "text": [
      "김상형\n",
      "총점 : 264\n",
      "평균 : 88.0\n",
      "김한슬\n",
      "총점 : 381\n"
     ]
    }
   ],
   "source": [
    "def calcscore(name, *score, **option):\n",
    "    print(name)\n",
    "    sum=0\n",
    "    for s in score:\n",
    "        sum+=s\n",
    "    print('총점 :',sum)\n",
    "    if(option['avg']==True):\n",
    "        print('평균 :',sum/len(score))\n",
    "        \n",
    "calcscore('김상형', 88, 99, 77, avg=True)\n",
    "calcscore('김한슬', 99, 98, 95, 89, avg=False)"
   ]
  },
  {
   "cell_type": "markdown",
   "id": "dbcb3ce5",
   "metadata": {},
   "source": [
    "### local"
   ]
  },
  {
   "cell_type": "code",
   "execution_count": 23,
   "id": "91535286",
   "metadata": {},
   "outputs": [
    {
     "name": "stdout",
     "output_type": "stream",
     "text": [
      "김과장의 함수\n"
     ]
    }
   ],
   "source": [
    "def kim():\n",
    "    temp = \"김과장의 함수\"\n",
    "    print(temp)\n",
    "    \n",
    "kim()"
   ]
  },
  {
   "cell_type": "code",
   "execution_count": 24,
   "id": "9095bcec",
   "metadata": {},
   "outputs": [
    {
     "ename": "NameError",
     "evalue": "name 'temp' is not defined",
     "output_type": "error",
     "traceback": [
      "\u001b[1;31m---------------------------------------------------------------------------\u001b[0m",
      "\u001b[1;31mNameError\u001b[0m                                 Traceback (most recent call last)",
      "\u001b[1;32m<ipython-input-24-40e463cf8546>\u001b[0m in \u001b[0;36m<module>\u001b[1;34m\u001b[0m\n\u001b[0;32m      3\u001b[0m     \u001b[0mprint\u001b[0m\u001b[1;33m(\u001b[0m\u001b[0mtemp\u001b[0m\u001b[1;33m)\u001b[0m\u001b[1;33m\u001b[0m\u001b[1;33m\u001b[0m\u001b[0m\n\u001b[0;32m      4\u001b[0m \u001b[1;33m\u001b[0m\u001b[0m\n\u001b[1;32m----> 5\u001b[1;33m \u001b[0mprint\u001b[0m\u001b[1;33m(\u001b[0m\u001b[0mtemp\u001b[0m\u001b[1;33m)\u001b[0m\u001b[1;33m\u001b[0m\u001b[1;33m\u001b[0m\u001b[0m\n\u001b[0m",
      "\u001b[1;31mNameError\u001b[0m: name 'temp' is not defined"
     ]
    }
   ],
   "source": [
    "def kim():\n",
    "    temp = \"김과장의 함수\"\n",
    "    print(temp)\n",
    "    \n",
    "print(temp)"
   ]
  },
  {
   "cell_type": "markdown",
   "id": "4fcf7fe4",
   "metadata": {},
   "source": [
    "### local2"
   ]
  },
  {
   "cell_type": "code",
   "execution_count": 25,
   "id": "cb653c70",
   "metadata": {},
   "outputs": [
    {
     "name": "stdout",
     "output_type": "stream",
     "text": [
      "김과장의 함수\n",
      "1024\n",
      "12\n"
     ]
    }
   ],
   "source": [
    "def kim():\n",
    "    temp='김과장의 함수'\n",
    "    print(temp)\n",
    "    \n",
    "def lee():\n",
    "    temp=2**10\n",
    "    return temp\n",
    "\n",
    "def park(a):\n",
    "    temp=a*2\n",
    "    print(temp)\n",
    "    \n",
    "kim()\n",
    "print(lee())\n",
    "park(6)"
   ]
  },
  {
   "cell_type": "markdown",
   "id": "341c508f",
   "metadata": {},
   "source": [
    "### global"
   ]
  },
  {
   "cell_type": "code",
   "execution_count": 27,
   "id": "37cfe4bd",
   "metadata": {},
   "outputs": [
    {
     "name": "stdout",
     "output_type": "stream",
     "text": [
      "오늘의 할인율 : 0.9\n",
      "가격: 900.0\n"
     ]
    }
   ],
   "source": [
    "salerate=0.9\n",
    "\n",
    "def kim():\n",
    "    print('오늘의 할인율 :',salerate)\n",
    "   \n",
    "def lee():\n",
    "    price=1000\n",
    "    print('가격:', price*salerate)\n",
    "    \n",
    "kim()\n",
    "salelate=1.1\n",
    "lee()"
   ]
  },
  {
   "cell_type": "markdown",
   "id": "341375c3",
   "metadata": {},
   "source": [
    "### global2"
   ]
  },
  {
   "cell_type": "code",
   "execution_count": 40,
   "id": "d3d3c162",
   "metadata": {},
   "outputs": [
    {
     "name": "stdout",
     "output_type": "stream",
     "text": [
      "1000\n"
     ]
    }
   ],
   "source": [
    "price = 1000\n",
    "def sale():\n",
    "    price = 500\n",
    "    \n",
    "sale()\n",
    "print(price)"
   ]
  },
  {
   "cell_type": "markdown",
   "id": "e718b169",
   "metadata": {},
   "source": [
    "### global3"
   ]
  },
  {
   "cell_type": "code",
   "execution_count": 42,
   "id": "74f634c7",
   "metadata": {},
   "outputs": [
    {
     "name": "stdout",
     "output_type": "stream",
     "text": [
      "500\n"
     ]
    }
   ],
   "source": [
    "price=1000\n",
    "\n",
    "def sale():\n",
    "    global price\n",
    "    price=500\n",
    "    \n",
    "sale()\n",
    "print(price)"
   ]
  },
  {
   "cell_type": "code",
   "execution_count": null,
   "id": "f2458b5b",
   "metadata": {},
   "outputs": [],
   "source": []
  }
 ],
 "metadata": {
  "kernelspec": {
   "display_name": "Python 3",
   "language": "python",
   "name": "python3"
  },
  "language_info": {
   "codemirror_mode": {
    "name": "ipython",
    "version": 3
   },
   "file_extension": ".py",
   "mimetype": "text/x-python",
   "name": "python",
   "nbconvert_exporter": "python",
   "pygments_lexer": "ipython3",
   "version": "3.8.8"
  }
 },
 "nbformat": 4,
 "nbformat_minor": 5
}
