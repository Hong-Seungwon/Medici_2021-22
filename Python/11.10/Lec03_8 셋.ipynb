{
 "cells": [
  {
   "cell_type": "markdown",
   "id": "41e5b63f",
   "metadata": {},
   "source": [
    "lise, tuple, dict, set, str collection"
   ]
  },
  {
   "cell_type": "code",
   "execution_count": 15,
   "id": "b8da6bde",
   "metadata": {},
   "outputs": [],
   "source": [
    "a='abcde'\n",
    "b=[1,2,10,20] #  list형 제일 많이 씀\n",
    "c=(1,2,10, 20)\n",
    "d={2:10,3.6:6,'name':10, 5:10.2}\n",
    "s={2,3,10,20, 'address'}"
   ]
  },
  {
   "cell_type": "code",
   "execution_count": 16,
   "id": "7816f0e4",
   "metadata": {},
   "outputs": [
    {
     "data": {
      "text/plain": [
       "('a', [0], 1, 10)"
      ]
     },
     "execution_count": 16,
     "metadata": {},
     "output_type": "execute_result"
    }
   ],
   "source": [
    "a[0], [0], c[0], d[2]"
   ]
  },
  {
   "cell_type": "code",
   "execution_count": 14,
   "id": "ea534b54",
   "metadata": {},
   "outputs": [],
   "source": [
    "d[3.6]='b'"
   ]
  },
  {
   "cell_type": "code",
   "execution_count": 20,
   "id": "948055ec",
   "metadata": {},
   "outputs": [],
   "source": [
    "empty_set=set()\n",
    "empty_set2={}"
   ]
  },
  {
   "cell_type": "code",
   "execution_count": 21,
   "id": "6977e4ac",
   "metadata": {},
   "outputs": [
    {
     "data": {
      "text/plain": [
       "(set, dict)"
      ]
     },
     "execution_count": 21,
     "metadata": {},
     "output_type": "execute_result"
    }
   ],
   "source": [
    "type(empty_set), type(empty_set2)"
   ]
  },
  {
   "cell_type": "code",
   "execution_count": 22,
   "id": "036fd298",
   "metadata": {},
   "outputs": [],
   "source": [
    "even_numbers={0,2,4,6,8}"
   ]
  },
  {
   "cell_type": "code",
   "execution_count": 23,
   "id": "29b88497",
   "metadata": {},
   "outputs": [
    {
     "data": {
      "text/plain": [
       "{0, 2, 4, 6, 8}"
      ]
     },
     "execution_count": 23,
     "metadata": {},
     "output_type": "execute_result"
    }
   ],
   "source": [
    "even_numbers"
   ]
  },
  {
   "cell_type": "code",
   "execution_count": 26,
   "id": "7d4dbb29",
   "metadata": {},
   "outputs": [],
   "source": [
    "odd_numbers=set(range(1,100,2))"
   ]
  },
  {
   "cell_type": "code",
   "execution_count": 27,
   "id": "d1fcef5a",
   "metadata": {},
   "outputs": [
    {
     "name": "stdout",
     "output_type": "stream",
     "text": [
      "{1, 3, 5, 7, 9, 11, 13, 15, 17, 19, 21, 23, 25, 27, 29, 31, 33, 35, 37, 39, 41, 43, 45, 47, 49, 51, 53, 55, 57, 59, 61, 63, 65, 67, 69, 71, 73, 75, 77, 79, 81, 83, 85, 87, 89, 91, 93, 95, 97, 99}\n"
     ]
    }
   ],
   "source": [
    "print(odd_numbers)"
   ]
  },
  {
   "cell_type": "code",
   "execution_count": 28,
   "id": "a5b92dbb",
   "metadata": {},
   "outputs": [
    {
     "data": {
      "text/plain": [
       "({'e', 'l', 'r', 's', 't'}, ['l', 'e', 't', 't', 'e', 'r', 's'])"
      ]
     },
     "execution_count": 28,
     "metadata": {},
     "output_type": "execute_result"
    }
   ],
   "source": [
    "set('letters'), list('letters')"
   ]
  },
  {
   "cell_type": "code",
   "execution_count": 31,
   "id": "16fe9ed7",
   "metadata": {},
   "outputs": [
    {
     "data": {
      "text/plain": [
       "{'apple', 'cherry', 'orange'}"
      ]
     },
     "execution_count": 31,
     "metadata": {},
     "output_type": "execute_result"
    }
   ],
   "source": [
    "set({'apple':'red', 'orange':'orange', 'cherry':'red'})"
   ]
  },
  {
   "cell_type": "code",
   "execution_count": 32,
   "id": "6c93d8c6",
   "metadata": {},
   "outputs": [
    {
     "data": {
      "text/plain": [
       "['apple', 'orange', 'cherry']"
      ]
     },
     "execution_count": 32,
     "metadata": {},
     "output_type": "execute_result"
    }
   ],
   "source": [
    "list({'apple':'red', 'orange':'orange', 'cherry':'red'})"
   ]
  },
  {
   "cell_type": "code",
   "execution_count": 33,
   "id": "9949b6f9",
   "metadata": {},
   "outputs": [],
   "source": [
    "s={1,2,3,'four'}"
   ]
  },
  {
   "cell_type": "code",
   "execution_count": 34,
   "id": "19cf3050",
   "metadata": {},
   "outputs": [
    {
     "data": {
      "text/plain": [
       "{1, 2, 3, 'four'}"
      ]
     },
     "execution_count": 34,
     "metadata": {},
     "output_type": "execute_result"
    }
   ],
   "source": [
    "s"
   ]
  },
  {
   "cell_type": "code",
   "execution_count": 35,
   "id": "32b7db75",
   "metadata": {},
   "outputs": [],
   "source": [
    "s.remove(2)"
   ]
  },
  {
   "cell_type": "code",
   "execution_count": 36,
   "id": "ec90480e",
   "metadata": {},
   "outputs": [
    {
     "data": {
      "text/plain": [
       "{1, 3, 'four'}"
      ]
     },
     "execution_count": 36,
     "metadata": {},
     "output_type": "execute_result"
    }
   ],
   "source": [
    "s"
   ]
  },
  {
   "cell_type": "code",
   "execution_count": 37,
   "id": "06ecb1d6",
   "metadata": {},
   "outputs": [],
   "source": [
    "furniture=set(('sofa', 'ottoman', 'table'))"
   ]
  },
  {
   "cell_type": "code",
   "execution_count": 38,
   "id": "8e1ae13b",
   "metadata": {},
   "outputs": [
    {
     "data": {
      "text/plain": [
       "{'ottoman', 'sofa', 'table'}"
      ]
     },
     "execution_count": 38,
     "metadata": {},
     "output_type": "execute_result"
    }
   ],
   "source": [
    "furniture"
   ]
  },
  {
   "cell_type": "code",
   "execution_count": 39,
   "id": "e0b3ad40",
   "metadata": {},
   "outputs": [
    {
     "name": "stdout",
     "output_type": "stream",
     "text": [
      "sofa\n",
      "table\n",
      "ottoman\n"
     ]
    }
   ],
   "source": [
    "for piece in furniture:\n",
    "    print(piece)"
   ]
  },
  {
   "cell_type": "code",
   "execution_count": 40,
   "id": "fab9140d",
   "metadata": {},
   "outputs": [
    {
     "data": {
      "text/plain": [
       "True"
      ]
     },
     "execution_count": 40,
     "metadata": {},
     "output_type": "execute_result"
    }
   ],
   "source": [
    "'table' in furniture"
   ]
  },
  {
   "cell_type": "code",
   "execution_count": 42,
   "id": "27186959",
   "metadata": {},
   "outputs": [],
   "source": [
    "drinks={'martini':{'vodka', 'vermouth'},\n",
    "'black russian': {'vodka', 'kahlua'},\n",
    "'white russian': {'cream', 'kahlua', 'vodka'},\n",
    "'manhattan':{'rye', 'vermouth', 'bitters'},\n",
    "'screwdriver':{'orange juice', 'vodka'},\n",
    "}"
   ]
  },
  {
   "cell_type": "code",
   "execution_count": 43,
   "id": "59fce87a",
   "metadata": {},
   "outputs": [],
   "source": [
    "a, b, c=['name']*3"
   ]
  },
  {
   "cell_type": "code",
   "execution_count": 44,
   "id": "71201d9f",
   "metadata": {},
   "outputs": [
    {
     "data": {
      "text/plain": [
       "dict_items([('martini', {'vermouth', 'vodka'}), ('black russian', {'vodka', 'kahlua'}), ('white russian', {'cream', 'kahlua', 'vodka'}), ('manhattan', {'vermouth', 'rye', 'bitters'}), ('screwdriver', {'vodka', 'orange juice'})])"
      ]
     },
     "execution_count": 44,
     "metadata": {},
     "output_type": "execute_result"
    }
   ],
   "source": [
    "drinks.items()"
   ]
  },
  {
   "cell_type": "code",
   "execution_count": 45,
   "id": "915d1ef1",
   "metadata": {},
   "outputs": [
    {
     "data": {
      "text/plain": [
       "[('martini', {'vermouth', 'vodka'}),\n",
       " ('black russian', {'kahlua', 'vodka'}),\n",
       " ('white russian', {'cream', 'kahlua', 'vodka'}),\n",
       " ('manhattan', {'bitters', 'rye', 'vermouth'}),\n",
       " ('screwdriver', {'orange juice', 'vodka'})]"
      ]
     },
     "execution_count": 45,
     "metadata": {},
     "output_type": "execute_result"
    }
   ],
   "source": [
    "list(drinks.items())"
   ]
  },
  {
   "cell_type": "code",
   "execution_count": 46,
   "id": "5594c624",
   "metadata": {},
   "outputs": [
    {
     "data": {
      "text/plain": [
       "('martini', {'vermouth', 'vodka'})"
      ]
     },
     "execution_count": 46,
     "metadata": {},
     "output_type": "execute_result"
    }
   ],
   "source": [
    "list(drinks.items())[0]"
   ]
  },
  {
   "cell_type": "code",
   "execution_count": 47,
   "id": "eed467b8",
   "metadata": {},
   "outputs": [],
   "source": [
    "a, b =list(drinks.items())[0]"
   ]
  },
  {
   "cell_type": "code",
   "execution_count": 48,
   "id": "72f8ee37",
   "metadata": {},
   "outputs": [
    {
     "data": {
      "text/plain": [
       "'martini'"
      ]
     },
     "execution_count": 48,
     "metadata": {},
     "output_type": "execute_result"
    }
   ],
   "source": [
    "a"
   ]
  },
  {
   "cell_type": "code",
   "execution_count": 49,
   "id": "46e0754e",
   "metadata": {},
   "outputs": [
    {
     "data": {
      "text/plain": [
       "{'vermouth', 'vodka'}"
      ]
     },
     "execution_count": 49,
     "metadata": {},
     "output_type": "execute_result"
    }
   ],
   "source": [
    "b"
   ]
  },
  {
   "cell_type": "code",
   "execution_count": 50,
   "id": "a98ee5c4",
   "metadata": {},
   "outputs": [
    {
     "data": {
      "text/plain": [
       "('martini', False)"
      ]
     },
     "execution_count": 50,
     "metadata": {},
     "output_type": "execute_result"
    }
   ],
   "source": [
    "a, b in list(drinks.items())"
   ]
  },
  {
   "cell_type": "code",
   "execution_count": 51,
   "id": "609e14f0",
   "metadata": {},
   "outputs": [
    {
     "name": "stdout",
     "output_type": "stream",
     "text": [
      "martini {'vermouth', 'vodka'}\n",
      "black russian {'vodka', 'kahlua'}\n",
      "white russian {'cream', 'kahlua', 'vodka'}\n",
      "manhattan {'vermouth', 'rye', 'bitters'}\n",
      "screwdriver {'vodka', 'orange juice'}\n"
     ]
    }
   ],
   "source": [
    "for name, contents in drinks.items():\n",
    "    print(name, contents)"
   ]
  },
  {
   "cell_type": "code",
   "execution_count": 53,
   "id": "6a33200c",
   "metadata": {},
   "outputs": [],
   "source": [
    "a, b=list(drinks.items())[0]"
   ]
  },
  {
   "cell_type": "code",
   "execution_count": 54,
   "id": "837d3a78",
   "metadata": {},
   "outputs": [
    {
     "data": {
      "text/plain": [
       "{'vermouth', 'vodka'}"
      ]
     },
     "execution_count": 54,
     "metadata": {},
     "output_type": "execute_result"
    }
   ],
   "source": [
    "b"
   ]
  },
  {
   "cell_type": "code",
   "execution_count": 55,
   "id": "56fa83d3",
   "metadata": {},
   "outputs": [
    {
     "data": {
      "text/plain": [
       "True"
      ]
     },
     "execution_count": 55,
     "metadata": {},
     "output_type": "execute_result"
    }
   ],
   "source": [
    "'vodka' in b"
   ]
  },
  {
   "cell_type": "code",
   "execution_count": 56,
   "id": "3cd9b05e",
   "metadata": {},
   "outputs": [
    {
     "data": {
      "text/plain": [
       "False"
      ]
     },
     "execution_count": 56,
     "metadata": {},
     "output_type": "execute_result"
    }
   ],
   "source": [
    "'vodka' in {'vermouth', 'rye', 'bitters'}"
   ]
  },
  {
   "cell_type": "code",
   "execution_count": 57,
   "id": "23c37665",
   "metadata": {},
   "outputs": [
    {
     "data": {
      "text/plain": [
       "True"
      ]
     },
     "execution_count": 57,
     "metadata": {},
     "output_type": "execute_result"
    }
   ],
   "source": [
    "'vodka' in {'orange juice', 'vodka'}"
   ]
  },
  {
   "cell_type": "code",
   "execution_count": 65,
   "id": "7b473751",
   "metadata": {},
   "outputs": [],
   "source": [
    "vodkas=[]\n",
    "for name, contents in drinks.items():\n",
    "    if 'vodka' in contents:\n",
    "        # vodkas+=name\n",
    "        vodkas.append(name)"
   ]
  },
  {
   "cell_type": "code",
   "execution_count": 66,
   "id": "40620cd6",
   "metadata": {},
   "outputs": [
    {
     "data": {
      "text/plain": [
       "['martini', 'black russian', 'white russian', 'screwdriver']"
      ]
     },
     "execution_count": 66,
     "metadata": {},
     "output_type": "execute_result"
    }
   ],
   "source": [
    "vodkas"
   ]
  },
  {
   "cell_type": "code",
   "execution_count": 61,
   "id": "7e47ed59",
   "metadata": {},
   "outputs": [
    {
     "data": {
      "text/plain": [
       "['a', 'b', 'c', 'e', 'f', 'g']"
      ]
     },
     "execution_count": 61,
     "metadata": {},
     "output_type": "execute_result"
    }
   ],
   "source": [
    "['a','b','c']+['e','f','g']"
   ]
  },
  {
   "cell_type": "code",
   "execution_count": 62,
   "id": "ce0896b0",
   "metadata": {},
   "outputs": [],
   "source": [
    "mylist=[]\n",
    "mylist+='martini'"
   ]
  },
  {
   "cell_type": "code",
   "execution_count": 63,
   "id": "368e9e88",
   "metadata": {},
   "outputs": [],
   "source": [
    "mylist+=['martini']"
   ]
  },
  {
   "cell_type": "code",
   "execution_count": 64,
   "id": "8f50182b",
   "metadata": {},
   "outputs": [
    {
     "data": {
      "text/plain": [
       "['m', 'a', 'r', 't', 'i', 'n', 'i', 'martini']"
      ]
     },
     "execution_count": 64,
     "metadata": {},
     "output_type": "execute_result"
    }
   ],
   "source": [
    "mylist"
   ]
  },
  {
   "cell_type": "code",
   "execution_count": 67,
   "id": "c4200136",
   "metadata": {},
   "outputs": [],
   "source": [
    "import pandas as pd"
   ]
  },
  {
   "cell_type": "code",
   "execution_count": 69,
   "id": "dce06eec",
   "metadata": {},
   "outputs": [],
   "source": [
    "df=pd.DataFrame(vodkas)"
   ]
  },
  {
   "cell_type": "code",
   "execution_count": 70,
   "id": "a70a8ca5",
   "metadata": {},
   "outputs": [],
   "source": [
    "df.to_csv('vodkas.csv')"
   ]
  },
  {
   "cell_type": "markdown",
   "id": "b701ddde",
   "metadata": {},
   "source": [
    "& 교집합, | 합집합, - 차집합"
   ]
  },
  {
   "cell_type": "code",
   "execution_count": 71,
   "id": "a623db1e",
   "metadata": {},
   "outputs": [],
   "source": [
    "a={1,2,3}\n",
    "b={2,3,4,5}"
   ]
  },
  {
   "cell_type": "code",
   "execution_count": 75,
   "id": "14407b47",
   "metadata": {},
   "outputs": [
    {
     "data": {
      "text/plain": [
       "({2, 3}, {1, 2, 3, 4, 5}, {1}, {4, 5})"
      ]
     },
     "execution_count": 75,
     "metadata": {},
     "output_type": "execute_result"
    }
   ],
   "source": [
    "a & b, a | b, a - b, b - a"
   ]
  },
  {
   "cell_type": "code",
   "execution_count": 76,
   "id": "44829998",
   "metadata": {},
   "outputs": [
    {
     "data": {
      "text/plain": [
       "({2, 3}, {1, 2, 3, 4, 5}, {1}, {4, 5})"
      ]
     },
     "execution_count": 76,
     "metadata": {},
     "output_type": "execute_result"
    }
   ],
   "source": [
    "a.intersection(b), a.union(b), a.difference(b), b.difference(a)"
   ]
  },
  {
   "cell_type": "code",
   "execution_count": 78,
   "id": "1fe4f055",
   "metadata": {},
   "outputs": [
    {
     "data": {
      "text/plain": [
       "({1, 4, 5}, {1, 4, 5})"
      ]
     },
     "execution_count": 78,
     "metadata": {},
     "output_type": "execute_result"
    }
   ],
   "source": [
    "a ^ b, a.symmetric_difference(b)"
   ]
  },
  {
   "cell_type": "code",
   "execution_count": 80,
   "id": "14e19fa5",
   "metadata": {},
   "outputs": [
    {
     "data": {
      "text/plain": [
       "(False, False)"
      ]
     },
     "execution_count": 80,
     "metadata": {},
     "output_type": "execute_result"
    }
   ],
   "source": [
    "a <= b, a.issubset(b)"
   ]
  },
  {
   "cell_type": "code",
   "execution_count": 81,
   "id": "63a490f9",
   "metadata": {},
   "outputs": [
    {
     "data": {
      "text/plain": [
       "({'kahlua', 'vodka'}, {'cream', 'kahlua', 'vodka'})"
      ]
     },
     "execution_count": 81,
     "metadata": {},
     "output_type": "execute_result"
    }
   ],
   "source": [
    "drinks['black russian'], drinks['white russian']"
   ]
  },
  {
   "cell_type": "code",
   "execution_count": 82,
   "id": "83b6e4f9",
   "metadata": {},
   "outputs": [
    {
     "data": {
      "text/plain": [
       "True"
      ]
     },
     "execution_count": 82,
     "metadata": {},
     "output_type": "execute_result"
    }
   ],
   "source": [
    "drinks['black russian'] <= drinks['white russian']"
   ]
  },
  {
   "cell_type": "code",
   "execution_count": 83,
   "id": "f760ab85",
   "metadata": {},
   "outputs": [
    {
     "data": {
      "text/plain": [
       "True"
      ]
     },
     "execution_count": 83,
     "metadata": {},
     "output_type": "execute_result"
    }
   ],
   "source": [
    "drinks['black russian'].issubset(drinks['white russian'])"
   ]
  },
  {
   "cell_type": "code",
   "execution_count": null,
   "id": "b01aa7cf",
   "metadata": {},
   "outputs": [],
   "source": []
  }
 ],
 "metadata": {
  "kernelspec": {
   "display_name": "Python 3",
   "language": "python",
   "name": "python3"
  },
  "language_info": {
   "codemirror_mode": {
    "name": "ipython",
    "version": 3
   },
   "file_extension": ".py",
   "mimetype": "text/x-python",
   "name": "python",
   "nbconvert_exporter": "python",
   "pygments_lexer": "ipython3",
   "version": "3.8.8"
  }
 },
 "nbformat": 4,
 "nbformat_minor": 5
}
