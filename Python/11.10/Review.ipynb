{
 "cells": [
  {
   "cell_type": "markdown",
   "id": "8a8ceabb",
   "metadata": {},
   "source": [
    "## 변수, 함수 메모리 리터럴, 메모리"
   ]
  },
  {
   "cell_type": "code",
   "execution_count": 1,
   "id": "2b475899",
   "metadata": {},
   "outputs": [
    {
     "data": {
      "text/plain": [
       "(100, 200, 'keyboard')"
      ]
     },
     "execution_count": 1,
     "metadata": {},
     "output_type": "execute_result"
    }
   ],
   "source": [
    "100, 200, 'keyboard'"
   ]
  },
  {
   "cell_type": "code",
   "execution_count": 2,
   "id": "0dcbf2e6",
   "metadata": {},
   "outputs": [
    {
     "data": {
      "text/plain": [
       "'Keyboard'"
      ]
     },
     "execution_count": 2,
     "metadata": {},
     "output_type": "execute_result"
    }
   ],
   "source": [
    "'keyboard'.capitalize()"
   ]
  },
  {
   "cell_type": "code",
   "execution_count": 7,
   "id": "a23f964e",
   "metadata": {},
   "outputs": [],
   "source": [
    "var = 'ab'.capitalize().swapcase()"
   ]
  },
  {
   "cell_type": "code",
   "execution_count": 8,
   "id": "410e9615",
   "metadata": {},
   "outputs": [
    {
     "data": {
      "text/plain": [
       "'aB'"
      ]
     },
     "execution_count": 8,
     "metadata": {},
     "output_type": "execute_result"
    }
   ],
   "source": [
    "var"
   ]
  },
  {
   "cell_type": "code",
   "execution_count": 9,
   "id": "5fe1fff2",
   "metadata": {},
   "outputs": [
    {
     "data": {
      "text/plain": [
       "3"
      ]
     },
     "execution_count": 9,
     "metadata": {},
     "output_type": "execute_result"
    }
   ],
   "source": [
    "len('abc')"
   ]
  },
  {
   "cell_type": "code",
   "execution_count": 10,
   "id": "de5ec9c4",
   "metadata": {},
   "outputs": [],
   "source": [
    "def myfunc():\n",
    "    return 200;"
   ]
  },
  {
   "cell_type": "code",
   "execution_count": 11,
   "id": "8abf8ece",
   "metadata": {},
   "outputs": [
    {
     "data": {
      "text/plain": [
       "200"
      ]
     },
     "execution_count": 11,
     "metadata": {},
     "output_type": "execute_result"
    }
   ],
   "source": [
    "myfunc()"
   ]
  },
  {
   "cell_type": "markdown",
   "id": "d0d57608",
   "metadata": {},
   "source": [
    "#### if elif else\n",
    "#### while\n",
    "#### for in"
   ]
  },
  {
   "cell_type": "code",
   "execution_count": 13,
   "id": "6b2f3c79",
   "metadata": {},
   "outputs": [
    {
     "name": "stdout",
     "output_type": "stream",
     "text": [
      "d\n",
      "a\n",
      "e\n",
      "r\n",
      "i\n",
      "m\n",
      " \n",
      "d\n",
      "o\n",
      "n\n",
      "g\n",
      " \n",
      "1\n",
      "2\n",
      "3\n",
      "4\n",
      " \n",
      "h\n",
      "e\n",
      "l\n",
      "l\n",
      "o\n"
     ]
    }
   ],
   "source": [
    "mystr=\"daerim dong 1234 hello\"\n",
    "mystr2=\"안녕하세여, hello 010-1234-1234\"\n",
    "'가', '핳'\n",
    "for ele in mystr:\n",
    "    print(ele)"
   ]
  },
  {
   "cell_type": "markdown",
   "id": "ec274189",
   "metadata": {},
   "source": [
    "### 문제 1.  문자열 중에서 숫자를 제거하는 프로그램을 작성하자"
   ]
  },
  {
   "cell_type": "code",
   "execution_count": 17,
   "id": "c3d4cf39",
   "metadata": {},
   "outputs": [
    {
     "name": "stdout",
     "output_type": "stream",
     "text": [
      "d\n",
      "a\n",
      "e\n",
      "r\n",
      "i\n",
      "m\n",
      " \n",
      "d\n",
      "o\n",
      "n\n",
      "g\n",
      " \n",
      " \n",
      "h\n",
      "e\n",
      "l\n",
      "l\n",
      "o\n"
     ]
    }
   ],
   "source": [
    "mystr=\"daerim dong 1234 hello\"\n",
    "mystr2=\"안녕하세여, hello 010-1234-1234\"\n",
    "'가', '핳'\n",
    "for ele in mystr.replace('1234',''):\n",
    "    print(ele)"
   ]
  },
  {
   "cell_type": "code",
   "execution_count": 25,
   "id": "dc118e6e",
   "metadata": {},
   "outputs": [],
   "source": [
    "mystr='daerim dong 1234 hello'\n",
    "newStr=''"
   ]
  },
  {
   "cell_type": "code",
   "execution_count": 31,
   "id": "d03088bb",
   "metadata": {},
   "outputs": [
    {
     "data": {
      "text/plain": [
       "'daerim dong  hello'"
      ]
     },
     "execution_count": 31,
     "metadata": {},
     "output_type": "execute_result"
    }
   ],
   "source": [
    "newStr=''\n",
    "for ele in mystr:\n",
    "    if ele.isdigit() == False:\n",
    "        newStr+=ele\n",
    "newStr"
   ]
  },
  {
   "cell_type": "code",
   "execution_count": 29,
   "id": "dfb09e0e",
   "metadata": {},
   "outputs": [
    {
     "data": {
      "text/plain": [
       "'d'"
      ]
     },
     "execution_count": 29,
     "metadata": {},
     "output_type": "execute_result"
    }
   ],
   "source": [
    "newStr += 'd'\n",
    "newStr"
   ]
  },
  {
   "cell_type": "markdown",
   "id": "7769859f",
   "metadata": {},
   "source": [
    "### 문제 2. 문자열에서 숫자, 영문 소문자, 영문 대문자, 한글, 기타 문자의 개수를 세는 프로그램을 작성하자.\n",
    "### 힌트) 각 문자는 고유한 번호가 할당되어 있으며, ord() 함수로 번호를 확인할 수 있다."
   ]
  },
  {
   "cell_type": "code",
   "execution_count": 24,
   "id": "701c7fc6",
   "metadata": {},
   "outputs": [
    {
     "name": "stdout",
     "output_type": "stream",
     "text": [
      "3\n"
     ]
    }
   ],
   "source": [
    "mystr=\"daerim dong 1234 hello\"\n",
    "mystr2=\".K 안녕하세여, MM hello 010-1234-1234\"\n",
    "'가', '핳'\n",
    "numUp = 0\n",
    "for ele in mystr2:\n",
    "    if(ord(ele) >= ord('A') and ord(ele) <= ord('Z')):\n",
    "        numUp+=1\n",
    "print(numUp)"
   ]
  },
  {
   "cell_type": "code",
   "execution_count": 34,
   "id": "a0ede965",
   "metadata": {},
   "outputs": [
    {
     "data": {
      "text/plain": [
       "(5, 11, 8)"
      ]
     },
     "execution_count": 34,
     "metadata": {},
     "output_type": "execute_result"
    }
   ],
   "source": [
    "hanCnt, upperCnt, lowerCnt, numCnt, etcCnt = [0]*5\n",
    "for ele in mystr2:\n",
    "    if(ord(ele) >= ord('A') and ord(ele) <= ord('Z')):\n",
    "        upperCnt+=1\n",
    "    elif(ord(ele) >= ord('a') and ord(ele) <= ord('z')):\n",
    "        lowerCnt+=1\n",
    "    elif(ord(ele) >= ord('0') and ord(ele) <= ord('9')):\n",
    "        numCnt+=1\n",
    "    elif(ord(ele) >= ord('가') and ord(ele) <= ord('핳')):\n",
    "        hanCnt+=1\n",
    "    else:\n",
    "        etcCnt+=1\n",
    "hanCnt, numCnt, etcCnt"
   ]
  },
  {
   "cell_type": "code",
   "execution_count": null,
   "id": "2daca222",
   "metadata": {},
   "outputs": [],
   "source": []
  }
 ],
 "metadata": {
  "kernelspec": {
   "display_name": "Python 3",
   "language": "python",
   "name": "python3"
  },
  "language_info": {
   "codemirror_mode": {
    "name": "ipython",
    "version": 3
   },
   "file_extension": ".py",
   "mimetype": "text/x-python",
   "name": "python",
   "nbconvert_exporter": "python",
   "pygments_lexer": "ipython3",
   "version": "3.8.8"
  }
 },
 "nbformat": 4,
 "nbformat_minor": 5
}
