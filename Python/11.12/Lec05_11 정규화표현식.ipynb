{
 "cells": [
  {
   "cell_type": "code",
   "execution_count": 1,
   "id": "fb37e66e",
   "metadata": {},
   "outputs": [
    {
     "data": {
      "text/plain": [
       "'I am keyboard mouse'"
      ]
     },
     "execution_count": 1,
     "metadata": {},
     "output_type": "execute_result"
    }
   ],
   "source": [
    "\"I am {0} {1}\".format('keyboard', 'mouse')"
   ]
  },
  {
   "cell_type": "code",
   "execution_count": 2,
   "id": "7f9bcbe6",
   "metadata": {},
   "outputs": [],
   "source": [
    "import re"
   ]
  },
  {
   "cell_type": "code",
   "execution_count": 3,
   "id": "13c88688",
   "metadata": {},
   "outputs": [
    {
     "data": {
      "text/plain": [
       "re.compile(r'[a-z][0-9]+', re.UNICODE)"
      ]
     },
     "execution_count": 3,
     "metadata": {},
     "output_type": "execute_result"
    }
   ],
   "source": [
    "re.compile('[a-z][0-9]+')"
   ]
  },
  {
   "cell_type": "code",
   "execution_count": 6,
   "id": "4184b127",
   "metadata": {},
   "outputs": [],
   "source": [
    "p = re.compile('[a-z]+')"
   ]
  },
  {
   "cell_type": "code",
   "execution_count": 4,
   "id": "41593d3e",
   "metadata": {},
   "outputs": [],
   "source": [
    "data = 'I am python 123'"
   ]
  },
  {
   "cell_type": "code",
   "execution_count": 7,
   "id": "d5ab4408",
   "metadata": {},
   "outputs": [
    {
     "data": {
      "text/plain": [
       "['am', 'python']"
      ]
     },
     "execution_count": 7,
     "metadata": {},
     "output_type": "execute_result"
    }
   ],
   "source": [
    "p.findall(data)"
   ]
  },
  {
   "cell_type": "code",
   "execution_count": 8,
   "id": "f5765b2a",
   "metadata": {},
   "outputs": [],
   "source": [
    "data = '''\n",
    "kim 801212-1222333\n",
    "lee 901101-2123123\n",
    "park 700302-1555777\n",
    "'''"
   ]
  },
  {
   "cell_type": "code",
   "execution_count": 9,
   "id": "54fa5f99",
   "metadata": {},
   "outputs": [],
   "source": [
    "p = re.compile('(\\d{6}[-]\\d{7})')"
   ]
  },
  {
   "cell_type": "code",
   "execution_count": 10,
   "id": "080e06be",
   "metadata": {},
   "outputs": [
    {
     "data": {
      "text/plain": [
       "['801212-1222333', '901101-2123123', '700302-1555777']"
      ]
     },
     "execution_count": 10,
     "metadata": {},
     "output_type": "execute_result"
    }
   ],
   "source": [
    "p.findall(data)"
   ]
  },
  {
   "cell_type": "code",
   "execution_count": null,
   "id": "a2b00d92",
   "metadata": {},
   "outputs": [],
   "source": []
  }
 ],
 "metadata": {
  "kernelspec": {
   "display_name": "Python 3",
   "language": "python",
   "name": "python3"
  },
  "language_info": {
   "codemirror_mode": {
    "name": "ipython",
    "version": 3
   },
   "file_extension": ".py",
   "mimetype": "text/x-python",
   "name": "python",
   "nbconvert_exporter": "python",
   "pygments_lexer": "ipython3",
   "version": "3.8.8"
  }
 },
 "nbformat": 4,
 "nbformat_minor": 5
}
