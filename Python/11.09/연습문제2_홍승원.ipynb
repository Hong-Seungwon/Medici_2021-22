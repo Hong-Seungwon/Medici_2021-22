{
 "cells": [
  {
   "cell_type": "markdown",
   "id": "a3753e97",
   "metadata": {},
   "source": [
    "#### 5.2"
   ]
  },
  {
   "cell_type": "code",
   "execution_count": 1,
   "id": "e141da24",
   "metadata": {},
   "outputs": [],
   "source": [
    "questions=[\n",
    "    \"We don't serce strings around here. Are you a string?\"\n",
    "    \"What is said on Father's Day in the forest?\"\n",
    "    \"What makes the sound 'Sis! Boom! Bah!'?\"\n",
    "]\n",
    "answers=[\n",
    "    \"An exploding sheep.\"\n",
    "    \"No, I'm a frayed knot.\"\n",
    "    \"'Pop!' goes the weasel.\"\n",
    "]"
   ]
  },
  {
   "cell_type": "markdown",
   "id": "6c58415c",
   "metadata": {},
   "source": [
    "#### 5.3"
   ]
  },
  {
   "cell_type": "code",
   "execution_count": 7,
   "id": "c577f569",
   "metadata": {},
   "outputs": [
    {
     "name": "stdout",
     "output_type": "stream",
     "text": [
      "\n",
      "My kitty cat likes roast beef,\n",
      "My kitty cat likes ham,\n",
      "My kitty cat fell on his head\n",
      "And now thinks he's a clam.\n",
      "\n"
     ]
    }
   ],
   "source": [
    "poem='''\n",
    "My kitty cat likes %s,\n",
    "My kitty cat likes %s,\n",
    "My kitty cat fell on his %s\n",
    "And now thinks he's a %s.\n",
    "'''\n",
    "str=('roast beef', 'ham', 'head', 'clam')\n",
    "print(poem%str)"
   ]
  },
  {
   "cell_type": "markdown",
   "id": "eb930fc1",
   "metadata": {},
   "source": [
    "#### 5.4"
   ]
  },
  {
   "cell_type": "code",
   "execution_count": 8,
   "id": "14c782c5",
   "metadata": {},
   "outputs": [],
   "source": [
    "letter='''\n",
    "Dear {salutation} {name},\n",
    "Thank you for letter. We are sorry that our {product} {verbed} in your {room}.\n",
    "Please note that it should never be used in a {room}, especially near any {animals}.\n",
    "Send us your receipt and {amount} for shipping and handling.\n",
    "We will send you another {product} that, in our tests, is {percent}% less likely to have {verbed}.\n",
    "Thank you for your support.\n",
    "Sincerely,\n",
    "{spokesman}\n",
    "{job_title}\n",
    "'''"
   ]
  },
  {
   "cell_type": "code",
   "execution_count": 12,
   "id": "d269cb0a",
   "metadata": {},
   "outputs": [
    {
     "name": "stdout",
     "output_type": "stream",
     "text": [
      "\n",
      "Dear Ambassador Nibbler,\n",
      "Thank you for letter. We are sorry that our pudding evaporated in your gazebo.\n",
      "Please note that it should never be used in a gazebo, especially near any octothorpes.\n",
      "Send us your receipt and $1.99 for shipping and handling.\n",
      "We will send you another pudding that, in our tests, is 88% less likely to have evaporated.\n",
      "Thank you for your support.\n",
      "Sincerely,\n",
      "Shirley Iugeste\n",
      "I Hate This Job\n",
      "\n"
     ]
    }
   ],
   "source": [
    "print(\n",
    "letter.format(salutation='Ambassador',\n",
    "             name='Nibbler',\n",
    "             product='pudding',\n",
    "             verbed='evaporated',\n",
    "             room='gazebo',\n",
    "             animals='octothorpes',\n",
    "             amount='$1.99',\n",
    "             percent=88,\n",
    "             spokesman='Shirley Iugeste',\n",
    "             job_title='I Hate This Job')\n",
    ")"
   ]
  },
  {
   "cell_type": "markdown",
   "id": "aaa0eb90",
   "metadata": {},
   "source": [
    "#### 6.1"
   ]
  },
  {
   "cell_type": "code",
   "execution_count": 16,
   "id": "71789e56",
   "metadata": {},
   "outputs": [
    {
     "name": "stdout",
     "output_type": "stream",
     "text": [
      "3\n",
      "2\n",
      "1\n",
      "0\n"
     ]
    }
   ],
   "source": [
    "for value in [3, 2, 1, 0]:\n",
    "    print(value)"
   ]
  },
  {
   "cell_type": "markdown",
   "id": "a1fb7355",
   "metadata": {},
   "source": [
    "#### 6.2"
   ]
  },
  {
   "cell_type": "code",
   "execution_count": 38,
   "id": "923cf4b1",
   "metadata": {},
   "outputs": [
    {
     "ename": "SyntaxError",
     "evalue": "invalid syntax (<ipython-input-38-866700db2809>, line 6)",
     "output_type": "error",
     "traceback": [
      "\u001b[1;36m  File \u001b[1;32m\"<ipython-input-38-866700db2809>\"\u001b[1;36m, line \u001b[1;32m6\u001b[0m\n\u001b[1;33m    elif number == guess_me:\u001b[0m\n\u001b[1;37m    ^\u001b[0m\n\u001b[1;31mSyntaxError\u001b[0m\u001b[1;31m:\u001b[0m invalid syntax\n"
     ]
    }
   ],
   "source": [
    "guess_me=7\n",
    "number=1\n",
    "while True:\n",
    "    if number < guess_me:\n",
    "        print('too low')\n",
    "elif number == guess_me:\n",
    "    print('found it!')\n",
    "    break\n",
    "elif number > guess_me:\n",
    "    print('oops')\n",
    "    break\n",
    "    number=number+1"
   ]
  },
  {
   "cell_type": "code",
   "execution_count": 37,
   "id": "ffa1d56d",
   "metadata": {},
   "outputs": [
    {
     "data": {
      "text/plain": [
       "False"
      ]
     },
     "execution_count": 37,
     "metadata": {},
     "output_type": "execute_result"
    }
   ],
   "source": []
  },
  {
   "cell_type": "code",
   "execution_count": null,
   "id": "606b8a58",
   "metadata": {},
   "outputs": [],
   "source": []
  }
 ],
 "metadata": {
  "kernelspec": {
   "display_name": "Python 3",
   "language": "python",
   "name": "python3"
  },
  "language_info": {
   "codemirror_mode": {
    "name": "ipython",
    "version": 3
   },
   "file_extension": ".py",
   "mimetype": "text/x-python",
   "name": "python",
   "nbconvert_exporter": "python",
   "pygments_lexer": "ipython3",
   "version": "3.8.8"
  }
 },
 "nbformat": 4,
 "nbformat_minor": 5
}
