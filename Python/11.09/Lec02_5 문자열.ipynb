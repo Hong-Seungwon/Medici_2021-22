{
 "cells": [
  {
   "cell_type": "markdown",
   "id": "d8b3abd4",
   "metadata": {},
   "source": [
    "#### "
   ]
  },
  {
   "cell_type": "code",
   "execution_count": 2,
   "id": "77ee0fbb",
   "metadata": {},
   "outputs": [],
   "source": [
    "a=10"
   ]
  },
  {
   "cell_type": "code",
   "execution_count": 3,
   "id": "aa83dd29",
   "metadata": {},
   "outputs": [
    {
     "data": {
      "text/plain": [
       "'I am haapy'"
      ]
     },
     "execution_count": 3,
     "metadata": {},
     "output_type": "execute_result"
    }
   ],
   "source": [
    "'i am haapy'.capitalize()"
   ]
  },
  {
   "cell_type": "code",
   "execution_count": 5,
   "id": "43bbbbc3",
   "metadata": {},
   "outputs": [
    {
     "data": {
      "text/plain": [
       "('I AM HAPPY', 'i am happy', 'I am HAPPY')"
      ]
     },
     "execution_count": 5,
     "metadata": {},
     "output_type": "execute_result"
    }
   ],
   "source": [
    "'i am happy'.upper(), 'i am happy'.lower(), 'i AM happy'.swapcase()"
   ]
  },
  {
   "cell_type": "code",
   "execution_count": 10,
   "id": "e379b37a",
   "metadata": {},
   "outputs": [
    {
     "data": {
      "text/plain": [
       "('   i am happy  ', '     i am happy', 'i am happy     ')"
      ]
     },
     "execution_count": 10,
     "metadata": {},
     "output_type": "execute_result"
    }
   ],
   "source": [
    "'i am happy'.center(15), 'i am happy'.rjust(15), 'i am happy'.ljust(15)"
   ]
  },
  {
   "cell_type": "code",
   "execution_count": 11,
   "id": "c06804ca",
   "metadata": {},
   "outputs": [],
   "source": [
    "# +(10,2) => 10+2"
   ]
  },
  {
   "cell_type": "code",
   "execution_count": 12,
   "id": "df84df14",
   "metadata": {},
   "outputs": [
    {
     "data": {
      "text/plain": [
       "'42'"
      ]
     },
     "execution_count": 12,
     "metadata": {},
     "output_type": "execute_result"
    }
   ],
   "source": [
    "('%s' % len('abcdddddddddddddddd'))"
   ]
  },
  {
   "cell_type": "code",
   "execution_count": 14,
   "id": "87537b8e",
   "metadata": {},
   "outputs": [
    {
     "data": {
      "text/plain": [
       "('42', '42', '2a', '52')"
      ]
     },
     "execution_count": 14,
     "metadata": {},
     "output_type": "execute_result"
    }
   ],
   "source": [
    "('%s' % 42),('%d' % 42), ('%x' % 42), ('%o' % 42)"
   ]
  },
  {
   "cell_type": "code",
   "execution_count": 16,
   "id": "16a40278",
   "metadata": {},
   "outputs": [
    {
     "data": {
      "text/plain": [
       "('7.03', '7.0300000', '7.030000e+00', '7.03')"
      ]
     },
     "execution_count": 16,
     "metadata": {},
     "output_type": "execute_result"
    }
   ],
   "source": [
    "('%s' % 7.03), ('%.7f' % 7.03), ('%e' % 7.03), ('%g' % 7.03)"
   ]
  },
  {
   "cell_type": "code",
   "execution_count": 19,
   "id": "28862bc3",
   "metadata": {},
   "outputs": [
    {
     "data": {
      "text/plain": [
       "'frist num : 100 second num : 200'"
      ]
     },
     "execution_count": 19,
     "metadata": {},
     "output_type": "execute_result"
    }
   ],
   "source": [
    "'frist num : %d second num : %s' % (100, 200)"
   ]
  },
  {
   "cell_type": "code",
   "execution_count": 20,
   "id": "9247d710",
   "metadata": {},
   "outputs": [],
   "source": [
    "thing = 'woodchuck'"
   ]
  },
  {
   "cell_type": "code",
   "execution_count": 22,
   "id": "def94dc8",
   "metadata": {},
   "outputs": [
    {
     "data": {
      "text/plain": [
       "('woodchuck', '   woodchuck', 'woodchuck   ', '   woodchuck')"
      ]
     },
     "execution_count": 22,
     "metadata": {},
     "output_type": "execute_result"
    }
   ],
   "source": [
    "('%s' % thing), ('%12s' % thing), ('%-12s' % thing), ('%+12s' % thing)"
   ]
  },
  {
   "cell_type": "code",
   "execution_count": 23,
   "id": "b06f6518",
   "metadata": {},
   "outputs": [
    {
     "data": {
      "text/plain": [
       "('woo', '         woo', 'woo         ')"
      ]
     },
     "execution_count": 23,
     "metadata": {},
     "output_type": "execute_result"
    }
   ],
   "source": [
    "('%.3s' % thing), ('%12.3s' % thing), ('%-12.3s' % thing)"
   ]
  },
  {
   "cell_type": "code",
   "execution_count": 24,
   "id": "cb39fded",
   "metadata": {},
   "outputs": [],
   "source": [
    "thing = 98.6"
   ]
  },
  {
   "cell_type": "code",
   "execution_count": 27,
   "id": "f1fda698",
   "metadata": {},
   "outputs": [
    {
     "data": {
      "text/plain": [
       "('98.600000', '   98.600000', '  +98.600000', '98.600000   ')"
      ]
     },
     "execution_count": 27,
     "metadata": {},
     "output_type": "execute_result"
    }
   ],
   "source": [
    "('%f' % thing), ('%12f' % thing), ('%+12f' % thing), ('%-12f' % thing)"
   ]
  },
  {
   "cell_type": "code",
   "execution_count": 30,
   "id": "1b2a58bf",
   "metadata": {},
   "outputs": [
    {
     "data": {
      "text/plain": [
       "('98.600', '      98.600', '98.600      ')"
      ]
     },
     "execution_count": 30,
     "metadata": {},
     "output_type": "execute_result"
    }
   ],
   "source": [
    "('%-.3f' % thing), ('%12.3f' % thing), ('%-12.3f' % thing)"
   ]
  },
  {
   "cell_type": "code",
   "execution_count": 31,
   "id": "23297411",
   "metadata": {},
   "outputs": [],
   "source": [
    "thing = 'woodchuck'\n",
    "place = 'lake'"
   ]
  },
  {
   "cell_type": "code",
   "execution_count": 33,
   "id": "7e124cac",
   "metadata": {},
   "outputs": [
    {
     "data": {
      "text/plain": [
       "'lake the woodchuck is in the lake'"
      ]
     },
     "execution_count": 33,
     "metadata": {},
     "output_type": "execute_result"
    }
   ],
   "source": [
    "'{0} the {1} is in the {0}'.format(place, thing)"
   ]
  },
  {
   "cell_type": "code",
   "execution_count": 35,
   "id": "b4dbf522",
   "metadata": {},
   "outputs": [
    {
     "data": {
      "text/plain": [
       "'the       lake is in the  woodchuck'"
      ]
     },
     "execution_count": 35,
     "metadata": {},
     "output_type": "execute_result"
    }
   ],
   "source": [
    "'the {:>10s} is in the {:>10s}'.format(place, thing)"
   ]
  },
  {
   "cell_type": "code",
   "execution_count": 36,
   "id": "f0fa6cd9",
   "metadata": {},
   "outputs": [
    {
     "data": {
      "text/plain": [
       "'the lake       is in the woodchuck '"
      ]
     },
     "execution_count": 36,
     "metadata": {},
     "output_type": "execute_result"
    }
   ],
   "source": [
    "'the {:<10s} is in the {:<10s}'.format(place, thing)"
   ]
  },
  {
   "cell_type": "code",
   "execution_count": 37,
   "id": "797b9970",
   "metadata": {},
   "outputs": [
    {
     "data": {
      "text/plain": [
       "'the    lake    is in the woodchuck '"
      ]
     },
     "execution_count": 37,
     "metadata": {},
     "output_type": "execute_result"
    }
   ],
   "source": [
    "'the {:^10s} is in the {:^10s}'.format(place, thing)"
   ]
  },
  {
   "cell_type": "code",
   "execution_count": 42,
   "id": "cd17b262",
   "metadata": {},
   "outputs": [
    {
     "data": {
      "text/plain": [
       "'the @@@lake@@@ is in the woodchuck@'"
      ]
     },
     "execution_count": 42,
     "metadata": {},
     "output_type": "execute_result"
    }
   ],
   "source": [
    "'the {:@^10s} is in the {:@^10s}'.format(place, thing)"
   ]
  },
  {
   "cell_type": "code",
   "execution_count": 38,
   "id": "50764d9c",
   "metadata": {},
   "outputs": [
    {
     "data": {
      "text/plain": [
       "('06', '11')"
      ]
     },
     "execution_count": 38,
     "metadata": {},
     "output_type": "execute_result"
    }
   ],
   "source": [
    "'{:0>2d}'.format(6), '{:0>2d}'.format(11)"
   ]
  },
  {
   "cell_type": "code",
   "execution_count": 43,
   "id": "ca4e430c",
   "metadata": {},
   "outputs": [
    {
     "data": {
      "text/plain": [
       "'the woodchuck@ is in the @@@lake@@@'"
      ]
     },
     "execution_count": 43,
     "metadata": {},
     "output_type": "execute_result"
    }
   ],
   "source": [
    "f'the {thing:@^10s} is in the {place:@^10s}'"
   ]
  },
  {
   "cell_type": "code",
   "execution_count": 44,
   "id": "72db532f",
   "metadata": {},
   "outputs": [],
   "source": [
    "day=2;"
   ]
  },
  {
   "cell_type": "code",
   "execution_count": 45,
   "id": "aef6d5a6",
   "metadata": {},
   "outputs": [
    {
     "data": {
      "text/plain": [
       "'02'"
      ]
     },
     "execution_count": 45,
     "metadata": {},
     "output_type": "execute_result"
    }
   ],
   "source": [
    "f'{day:0>2d}'"
   ]
  },
  {
   "cell_type": "code",
   "execution_count": null,
   "id": "d20376d1",
   "metadata": {},
   "outputs": [],
   "source": []
  }
 ],
 "metadata": {
  "kernelspec": {
   "display_name": "Python 3",
   "language": "python",
   "name": "python3"
  },
  "language_info": {
   "codemirror_mode": {
    "name": "ipython",
    "version": 3
   },
   "file_extension": ".py",
   "mimetype": "text/x-python",
   "name": "python",
   "nbconvert_exporter": "python",
   "pygments_lexer": "ipython3",
   "version": "3.8.8"
  }
 },
 "nbformat": 4,
 "nbformat_minor": 5
}
