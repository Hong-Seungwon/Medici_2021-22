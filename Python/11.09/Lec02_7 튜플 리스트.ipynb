{
 "cells": [
  {
   "cell_type": "code",
   "execution_count": 1,
   "id": "72aad8cc",
   "metadata": {},
   "outputs": [],
   "source": [
    "empty_tuple=()"
   ]
  },
  {
   "cell_type": "code",
   "execution_count": 2,
   "id": "98375e6a",
   "metadata": {},
   "outputs": [
    {
     "data": {
      "text/plain": [
       "tuple"
      ]
     },
     "execution_count": 2,
     "metadata": {},
     "output_type": "execute_result"
    }
   ],
   "source": [
    "type(empty_tuple)"
   ]
  },
  {
   "cell_type": "code",
   "execution_count": 3,
   "id": "024f5d8a",
   "metadata": {},
   "outputs": [],
   "source": [
    "mrax_tuple=('Groucho','Chico','Harpo')"
   ]
  },
  {
   "cell_type": "code",
   "execution_count": 4,
   "id": "0aacd2a1",
   "metadata": {},
   "outputs": [],
   "source": [
    "marx_tuple= 'Groucho', 'Chico', 'Harpo'"
   ]
  },
  {
   "cell_type": "code",
   "execution_count": 6,
   "id": "8205f74f",
   "metadata": {},
   "outputs": [
    {
     "data": {
      "text/plain": [
       "('Groucho', 'Chico', 'Harpo')"
      ]
     },
     "execution_count": 6,
     "metadata": {},
     "output_type": "execute_result"
    }
   ],
   "source": [
    "marx_tuple[0],marx_tuple[1], marx_tuple[2]"
   ]
  },
  {
   "cell_type": "code",
   "execution_count": 7,
   "id": "673ebefe",
   "metadata": {},
   "outputs": [],
   "source": [
    "a, b, c=marx_tuple"
   ]
  },
  {
   "cell_type": "code",
   "execution_count": 8,
   "id": "73ff2bd4",
   "metadata": {},
   "outputs": [
    {
     "data": {
      "text/plain": [
       "('Groucho', 'Chico', 'Harpo')"
      ]
     },
     "execution_count": 8,
     "metadata": {},
     "output_type": "execute_result"
    }
   ],
   "source": [
    "a, b, c"
   ]
  },
  {
   "cell_type": "code",
   "execution_count": 10,
   "id": "65cd5dbc",
   "metadata": {},
   "outputs": [],
   "source": [
    "password='medici'\n",
    "icecream='greentea'"
   ]
  },
  {
   "cell_type": "code",
   "execution_count": 11,
   "id": "e2f413aa",
   "metadata": {},
   "outputs": [],
   "source": [
    "password, icecream='medici','greentea'"
   ]
  },
  {
   "cell_type": "code",
   "execution_count": 13,
   "id": "6ef02fd3",
   "metadata": {},
   "outputs": [],
   "source": [
    "marx_list=list(marx_tuple)"
   ]
  },
  {
   "cell_type": "code",
   "execution_count": 14,
   "id": "1848c4bc",
   "metadata": {},
   "outputs": [
    {
     "data": {
      "text/plain": [
       "['Groucho', 'Chico', 'Harpo']"
      ]
     },
     "execution_count": 14,
     "metadata": {},
     "output_type": "execute_result"
    }
   ],
   "source": [
    "marx_list"
   ]
  },
  {
   "cell_type": "code",
   "execution_count": 15,
   "id": "8de00fb2",
   "metadata": {},
   "outputs": [],
   "source": [
    "marx_list[0]=marx_list[0].upper()"
   ]
  },
  {
   "cell_type": "code",
   "execution_count": 17,
   "id": "4c7b147c",
   "metadata": {},
   "outputs": [
    {
     "data": {
      "text/plain": [
       "('GROUCHO', 'Chico', 'Harpo')"
      ]
     },
     "execution_count": 17,
     "metadata": {},
     "output_type": "execute_result"
    }
   ],
   "source": [
    "tuple(marx_list)"
   ]
  },
  {
   "cell_type": "code",
   "execution_count": 19,
   "id": "94348611",
   "metadata": {},
   "outputs": [
    {
     "data": {
      "text/plain": [
       "('apple', 'banana', 'mouse', 'keyboard')"
      ]
     },
     "execution_count": 19,
     "metadata": {},
     "output_type": "execute_result"
    }
   ],
   "source": [
    "('apple','banana')+('mouse','keyboard')"
   ]
  },
  {
   "cell_type": "code",
   "execution_count": 21,
   "id": "74882445",
   "metadata": {},
   "outputs": [
    {
     "data": {
      "text/plain": [
       "(('apple', 'banana', 'apple', 'banana', 'apple', 'banana'),\n",
       " ('appple', 'banana', 'appple', 'banana', 'appple', 'banana'))"
      ]
     },
     "execution_count": 21,
     "metadata": {},
     "output_type": "execute_result"
    }
   ],
   "source": [
    "('apple','banana')*3, 3*('appple','banana')"
   ]
  },
  {
   "cell_type": "code",
   "execution_count": 22,
   "id": "26b53103",
   "metadata": {},
   "outputs": [
    {
     "name": "stdout",
     "output_type": "stream",
     "text": [
      "Groucho\n",
      "Chico\n",
      "Harpo\n"
     ]
    }
   ],
   "source": [
    "for x in marx_tuple:\n",
    "    print(x)"
   ]
  },
  {
   "cell_type": "code",
   "execution_count": 23,
   "id": "79ff8baf",
   "metadata": {},
   "outputs": [],
   "source": [
    "t1=('mouse','keyboard')\n",
    "t2=('desk',)\n",
    "# t1=t1+t2\n",
    "t1 += t2"
   ]
  },
  {
   "cell_type": "code",
   "execution_count": 24,
   "id": "ec5a0d50",
   "metadata": {},
   "outputs": [
    {
     "data": {
      "text/plain": [
       "('mouse', 'keyboard', 'desk')"
      ]
     },
     "execution_count": 24,
     "metadata": {},
     "output_type": "execute_result"
    }
   ],
   "source": [
    "t1"
   ]
  },
  {
   "cell_type": "markdown",
   "id": "cf88d878",
   "metadata": {},
   "source": [
    "### 리스트 생성"
   ]
  },
  {
   "cell_type": "code",
   "execution_count": null,
   "id": "de781e50",
   "metadata": {},
   "outputs": [],
   "source": [
    "empty_list=[]"
   ]
  },
  {
   "cell_type": "code",
   "execution_count": 25,
   "id": "ecb6ab28",
   "metadata": {},
   "outputs": [],
   "source": [
    "leap_years=[2000,2004,2008]\n",
    "first_names=['kim','park','yun','lee']\n",
    "randoness=['abcd',2, [122,222],{'kim':'Darerim'}]"
   ]
  },
  {
   "cell_type": "code",
   "execution_count": 26,
   "id": "09b3cc1b",
   "metadata": {},
   "outputs": [
    {
     "data": {
      "text/plain": [
       "{2000, 2004, 2008}"
      ]
     },
     "execution_count": 26,
     "metadata": {},
     "output_type": "execute_result"
    }
   ],
   "source": [
    "set(leap_years)"
   ]
  },
  {
   "cell_type": "code",
   "execution_count": 27,
   "id": "260e384b",
   "metadata": {},
   "outputs": [],
   "source": [
    "another_empty_list=list()"
   ]
  },
  {
   "cell_type": "code",
   "execution_count": 28,
   "id": "231bb085",
   "metadata": {},
   "outputs": [],
   "source": [
    "# 문자열, 튜플, 셋, 딕셔너리, 리스트"
   ]
  },
  {
   "cell_type": "code",
   "execution_count": 30,
   "id": "b20f33c6",
   "metadata": {},
   "outputs": [
    {
     "data": {
      "text/plain": [
       "(['c', 'a', 't'], ['ready', 'fire', 'aim'])"
      ]
     },
     "execution_count": 30,
     "metadata": {},
     "output_type": "execute_result"
    }
   ],
   "source": [
    "list('cat'), list(('ready', 'fire', 'aim'))"
   ]
  },
  {
   "cell_type": "code",
   "execution_count": 31,
   "id": "7d454eaa",
   "metadata": {},
   "outputs": [],
   "source": [
    "someday = '9/19/2019'"
   ]
  },
  {
   "cell_type": "code",
   "execution_count": 32,
   "id": "6c9e8615",
   "metadata": {},
   "outputs": [
    {
     "data": {
      "text/plain": [
       "['9', '19', '2019']"
      ]
     },
     "execution_count": 32,
     "metadata": {},
     "output_type": "execute_result"
    }
   ],
   "source": [
    "someday.split('/')"
   ]
  },
  {
   "cell_type": "code",
   "execution_count": 33,
   "id": "d9a8db9e",
   "metadata": {},
   "outputs": [
    {
     "data": {
      "text/plain": [
       "['a', 'b', '', 'c', 'd', '', '', 'e']"
      ]
     },
     "execution_count": 33,
     "metadata": {},
     "output_type": "execute_result"
    }
   ],
   "source": [
    "'a/b//c/d///e'.split('/')"
   ]
  },
  {
   "cell_type": "code",
   "execution_count": 34,
   "id": "72bcb24a",
   "metadata": {},
   "outputs": [
    {
     "data": {
      "text/plain": [
       "['a/b', 'c/d', '/e']"
      ]
     },
     "execution_count": 34,
     "metadata": {},
     "output_type": "execute_result"
    }
   ],
   "source": [
    "'a/b//c/d///e'.split('//')"
   ]
  },
  {
   "cell_type": "code",
   "execution_count": 35,
   "id": "d40548f3",
   "metadata": {},
   "outputs": [],
   "source": [
    "marxes = ['keyboard','mouse','joystick']"
   ]
  },
  {
   "cell_type": "code",
   "execution_count": 39,
   "id": "d8368cae",
   "metadata": {},
   "outputs": [
    {
     "data": {
      "text/plain": [
       "(['keyboard', 'joystick'], ['joystick', 'keyboard'])"
      ]
     },
     "execution_count": 39,
     "metadata": {},
     "output_type": "execute_result"
    }
   ],
   "source": [
    "marxes[::2], marxes[::-2]"
   ]
  },
  {
   "cell_type": "code",
   "execution_count": 41,
   "id": "4489c85f",
   "metadata": {},
   "outputs": [
    {
     "data": {
      "text/plain": [
       "['joystick', 'mouse', 'keyboard']"
      ]
     },
     "execution_count": 41,
     "metadata": {},
     "output_type": "execute_result"
    }
   ],
   "source": [
    "marxes[::-1]"
   ]
  },
  {
   "cell_type": "code",
   "execution_count": 42,
   "id": "c5752068",
   "metadata": {},
   "outputs": [],
   "source": [
    "marxes.reverse()"
   ]
  },
  {
   "cell_type": "code",
   "execution_count": 46,
   "id": "3ba10034",
   "metadata": {},
   "outputs": [],
   "source": [
    "marxes.append('Zeppo')"
   ]
  },
  {
   "cell_type": "code",
   "execution_count": 47,
   "id": "e8ff7844",
   "metadata": {},
   "outputs": [
    {
     "data": {
      "text/plain": [
       "['joystick', 'mouse', 'keyboard', 'Zeppo']"
      ]
     },
     "execution_count": 47,
     "metadata": {},
     "output_type": "execute_result"
    }
   ],
   "source": [
    "marxes"
   ]
  },
  {
   "cell_type": "code",
   "execution_count": 52,
   "id": "3ee89043",
   "metadata": {},
   "outputs": [],
   "source": [
    "marxes.(2,'touchpad')"
   ]
  },
  {
   "cell_type": "code",
   "execution_count": 57,
   "id": "9b402751",
   "metadata": {},
   "outputs": [
    {
     "data": {
      "text/plain": [
       "['joystick', 'mouse', 'touchpad', 'keyboard', 'Zeppo', 'half keyboard']"
      ]
     },
     "execution_count": 57,
     "metadata": {},
     "output_type": "execute_result"
    }
   ],
   "source": [
    "marxes"
   ]
  },
  {
   "cell_type": "code",
   "execution_count": 50,
   "id": "d82d0aff",
   "metadata": {},
   "outputs": [],
   "source": [
    "marxes.insert(10,'half keyboard')"
   ]
  },
  {
   "cell_type": "code",
   "execution_count": 58,
   "id": "a733ef7f",
   "metadata": {},
   "outputs": [
    {
     "data": {
      "text/plain": [
       "['a', 'b', 'c', 'e', 'd', 'f']"
      ]
     },
     "execution_count": 58,
     "metadata": {},
     "output_type": "execute_result"
    }
   ],
   "source": [
    "list('abc')+list('edf')"
   ]
  },
  {
   "cell_type": "code",
   "execution_count": 65,
   "id": "79bfc009",
   "metadata": {},
   "outputs": [],
   "source": [
    "alist = list('abc')"
   ]
  },
  {
   "cell_type": "code",
   "execution_count": 66,
   "id": "5fc4adcb",
   "metadata": {},
   "outputs": [],
   "source": [
    "alist.extend(list('wxy'))"
   ]
  },
  {
   "cell_type": "code",
   "execution_count": 67,
   "id": "e5579f68",
   "metadata": {},
   "outputs": [
    {
     "data": {
      "text/plain": [
       "['a', 'b', 'c', 'w', 'x', 'y']"
      ]
     },
     "execution_count": 67,
     "metadata": {},
     "output_type": "execute_result"
    }
   ],
   "source": [
    "alist"
   ]
  },
  {
   "cell_type": "code",
   "execution_count": 68,
   "id": "66e9e381",
   "metadata": {},
   "outputs": [],
   "source": [
    "del alist[0]"
   ]
  },
  {
   "cell_type": "code",
   "execution_count": 69,
   "id": "dc9fcae7",
   "metadata": {},
   "outputs": [
    {
     "data": {
      "text/plain": [
       "['b', 'c', 'w', 'x', 'y']"
      ]
     },
     "execution_count": 69,
     "metadata": {},
     "output_type": "execute_result"
    }
   ],
   "source": [
    "alist"
   ]
  },
  {
   "cell_type": "code",
   "execution_count": 70,
   "id": "16bf0d4e",
   "metadata": {},
   "outputs": [],
   "source": [
    "del alist"
   ]
  },
  {
   "cell_type": "code",
   "execution_count": 71,
   "id": "c71f3fe2",
   "metadata": {},
   "outputs": [
    {
     "ename": "NameError",
     "evalue": "name 'alist' is not defined",
     "output_type": "error",
     "traceback": [
      "\u001b[1;31m---------------------------------------------------------------------------\u001b[0m",
      "\u001b[1;31mNameError\u001b[0m                                 Traceback (most recent call last)",
      "\u001b[1;32m<ipython-input-71-56a8d75443b3>\u001b[0m in \u001b[0;36m<module>\u001b[1;34m\u001b[0m\n\u001b[1;32m----> 1\u001b[1;33m \u001b[0malist\u001b[0m\u001b[1;33m\u001b[0m\u001b[1;33m\u001b[0m\u001b[0m\n\u001b[0m",
      "\u001b[1;31mNameError\u001b[0m: name 'alist' is not defined"
     ]
    }
   ],
   "source": [
    "alist"
   ]
  },
  {
   "cell_type": "code",
   "execution_count": 93,
   "id": "22f01cf8",
   "metadata": {},
   "outputs": [],
   "source": [
    "blist=['abc','def','ghi','jkl','def']"
   ]
  },
  {
   "cell_type": "code",
   "execution_count": 80,
   "id": "dba26050",
   "metadata": {},
   "outputs": [],
   "source": [
    "blist.remove('def')"
   ]
  },
  {
   "cell_type": "code",
   "execution_count": 86,
   "id": "602df9f9",
   "metadata": {},
   "outputs": [
    {
     "data": {
      "text/plain": [
       "'ghi'"
      ]
     },
     "execution_count": 86,
     "metadata": {},
     "output_type": "execute_result"
    }
   ],
   "source": [
    "blist.pop(2)"
   ]
  },
  {
   "cell_type": "code",
   "execution_count": 89,
   "id": "6ef86d05",
   "metadata": {},
   "outputs": [
    {
     "data": {
      "text/plain": [
       "[]"
      ]
     },
     "execution_count": 89,
     "metadata": {},
     "output_type": "execute_result"
    }
   ],
   "source": [
    "blist"
   ]
  },
  {
   "cell_type": "code",
   "execution_count": 88,
   "id": "993eb1d9",
   "metadata": {},
   "outputs": [],
   "source": [
    "blist.clear()"
   ]
  },
  {
   "cell_type": "code",
   "execution_count": 94,
   "id": "7201634a",
   "metadata": {},
   "outputs": [
    {
     "data": {
      "text/plain": [
       "1"
      ]
     },
     "execution_count": 94,
     "metadata": {},
     "output_type": "execute_result"
    }
   ],
   "source": [
    "blist.index('def')"
   ]
  },
  {
   "cell_type": "code",
   "execution_count": 95,
   "id": "00dc98b4",
   "metadata": {},
   "outputs": [
    {
     "data": {
      "text/plain": [
       "2"
      ]
     },
     "execution_count": 95,
     "metadata": {},
     "output_type": "execute_result"
    }
   ],
   "source": [
    "blist.count('def')"
   ]
  },
  {
   "cell_type": "code",
   "execution_count": 98,
   "id": "0b5c5231",
   "metadata": {},
   "outputs": [],
   "source": [
    "cheeses = ['brie', 'gjetost', 'havarti']"
   ]
  },
  {
   "cell_type": "code",
   "execution_count": 99,
   "id": "243cd402",
   "metadata": {},
   "outputs": [
    {
     "name": "stdout",
     "output_type": "stream",
     "text": [
      "brie\n",
      "gjetost\n",
      "havarti\n"
     ]
    }
   ],
   "source": [
    "for cheese in cheeses:\n",
    "    print(cheese)"
   ]
  },
  {
   "cell_type": "code",
   "execution_count": 103,
   "id": "aef18d7e",
   "metadata": {},
   "outputs": [
    {
     "name": "stdout",
     "output_type": "stream",
     "text": [
      "brie\n",
      "gjetost\n",
      "havarti\n",
      "Didn't find anything that started with 'x'\n"
     ]
    }
   ],
   "source": [
    "for cheese in cheeses:\n",
    "    if cheese.startswith('x'):\n",
    "        print(\"I won't eat anything that starts with 'g'\")\n",
    "        break\n",
    "    else:\n",
    "        print(cheese)\n",
    "else:\n",
    "    print(\"Didn't find anything that started with 'x'\")"
   ]
  },
  {
   "cell_type": "code",
   "execution_count": 104,
   "id": "8b990e59",
   "metadata": {},
   "outputs": [],
   "source": [
    "english = 'Monday', 'Thuesday', 'Wednesday'\n",
    "french = 'Lundi', 'Mardi', 'Mercredi'"
   ]
  },
  {
   "cell_type": "code",
   "execution_count": 106,
   "id": "e904c00f",
   "metadata": {},
   "outputs": [
    {
     "data": {
      "text/plain": [
       "[('Monday', 'Lundi'), ('Thuesday', 'Mardi'), ('Wednesday', 'Mercredi')]"
      ]
     },
     "execution_count": 106,
     "metadata": {},
     "output_type": "execute_result"
    }
   ],
   "source": [
    "list(zip(english,french))"
   ]
  },
  {
   "cell_type": "code",
   "execution_count": 107,
   "id": "6fefbdc2",
   "metadata": {},
   "outputs": [
    {
     "data": {
      "text/plain": [
       "{'Monday': 'Lundi', 'Thuesday': 'Mardi', 'Wednesday': 'Mercredi'}"
      ]
     },
     "execution_count": 107,
     "metadata": {},
     "output_type": "execute_result"
    }
   ],
   "source": [
    "dict(list(zip(english,french)))"
   ]
  },
  {
   "cell_type": "code",
   "execution_count": 108,
   "id": "5d691152",
   "metadata": {},
   "outputs": [],
   "source": [
    "# data['홍길동']"
   ]
  },
  {
   "cell_type": "markdown",
   "id": "e2084cbb",
   "metadata": {},
   "source": [
    "### list comprehension"
   ]
  },
  {
   "cell_type": "code",
   "execution_count": null,
   "id": "44a98dbb",
   "metadata": {},
   "outputs": [],
   "source": []
  },
  {
   "cell_type": "code",
   "execution_count": null,
   "id": "4442e2b8",
   "metadata": {},
   "outputs": [],
   "source": []
  },
  {
   "cell_type": "code",
   "execution_count": null,
   "id": "d11cae7f",
   "metadata": {},
   "outputs": [],
   "source": []
  },
  {
   "cell_type": "code",
   "execution_count": 112,
   "id": "26c5f376",
   "metadata": {},
   "outputs": [
    {
     "data": {
      "text/plain": [
       "[1, 2, 3, 4, 5]"
      ]
     },
     "execution_count": 112,
     "metadata": {},
     "output_type": "execute_result"
    }
   ],
   "source": [
    "[num for num in range(1,6)]"
   ]
  },
  {
   "cell_type": "code",
   "execution_count": 113,
   "id": "6d3293b0",
   "metadata": {},
   "outputs": [
    {
     "data": {
      "text/plain": [
       "[1, 3, 5]"
      ]
     },
     "execution_count": 113,
     "metadata": {},
     "output_type": "execute_result"
    }
   ],
   "source": [
    "[num for num in range(1,6) if num % 2 ==1]"
   ]
  },
  {
   "cell_type": "code",
   "execution_count": 114,
   "id": "adf4bbc2",
   "metadata": {},
   "outputs": [],
   "source": [
    "mystring = 'Hello 32345 world 779'"
   ]
  },
  {
   "cell_type": "code",
   "execution_count": 116,
   "id": "a11bf6e4",
   "metadata": {},
   "outputs": [
    {
     "data": {
      "text/plain": [
       "True"
      ]
     },
     "execution_count": 116,
     "metadata": {},
     "output_type": "execute_result"
    }
   ],
   "source": [
    "mystring[6].isdigit()"
   ]
  },
  {
   "cell_type": "code",
   "execution_count": 118,
   "id": "e663dd5f",
   "metadata": {},
   "outputs": [],
   "source": [
    "tmplist=[]\n",
    "for x in mystring:\n",
    "    if x.isdigit():\n",
    "        tmplist.append(x)"
   ]
  },
  {
   "cell_type": "code",
   "execution_count": 119,
   "id": "8fa3eb0d",
   "metadata": {},
   "outputs": [
    {
     "data": {
      "text/plain": [
       "['3', '2', '3', '4', '5', '7', '7', '9']"
      ]
     },
     "execution_count": 119,
     "metadata": {},
     "output_type": "execute_result"
    }
   ],
   "source": [
    "[x for x in mystring if x.isdigit()]"
   ]
  },
  {
   "cell_type": "code",
   "execution_count": 120,
   "id": "b3098a2d",
   "metadata": {},
   "outputs": [],
   "source": [
    "listOfWords = ['this','is','a','list','of','words']"
   ]
  },
  {
   "cell_type": "code",
   "execution_count": 121,
   "id": "84d4cc94",
   "metadata": {},
   "outputs": [
    {
     "data": {
      "text/plain": [
       "'t'"
      ]
     },
     "execution_count": 121,
     "metadata": {},
     "output_type": "execute_result"
    }
   ],
   "source": [
    "listOfWords[0][0]"
   ]
  },
  {
   "cell_type": "code",
   "execution_count": 123,
   "id": "e33e45a1",
   "metadata": {},
   "outputs": [
    {
     "name": "stdout",
     "output_type": "stream",
     "text": [
      "t\n",
      "i\n",
      "a\n",
      "l\n",
      "o\n",
      "w\n"
     ]
    }
   ],
   "source": [
    "for x in listOfWords:\n",
    "    print(x[0])"
   ]
  },
  {
   "cell_type": "code",
   "execution_count": 125,
   "id": "8025a5b6",
   "metadata": {},
   "outputs": [
    {
     "data": {
      "text/plain": [
       "['t', 'i', 'a', 'l', 'o', 'w']"
      ]
     },
     "execution_count": 125,
     "metadata": {},
     "output_type": "execute_result"
    }
   ],
   "source": [
    "[x[0] for x in listOfWords]"
   ]
  },
  {
   "cell_type": "code",
   "execution_count": null,
   "id": "92e9d2be",
   "metadata": {},
   "outputs": [],
   "source": []
  }
 ],
 "metadata": {
  "kernelspec": {
   "display_name": "Python 3",
   "language": "python",
   "name": "python3"
  },
  "language_info": {
   "codemirror_mode": {
    "name": "ipython",
    "version": 3
   },
   "file_extension": ".py",
   "mimetype": "text/x-python",
   "name": "python",
   "nbconvert_exporter": "python",
   "pygments_lexer": "ipython3",
   "version": "3.8.8"
  }
 },
 "nbformat": 4,
 "nbformat_minor": 5
}
