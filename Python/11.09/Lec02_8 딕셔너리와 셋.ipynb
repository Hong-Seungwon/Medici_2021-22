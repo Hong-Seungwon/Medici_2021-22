{
 "cells": [
  {
   "cell_type": "code",
   "execution_count": 1,
   "id": "45133643",
   "metadata": {},
   "outputs": [],
   "source": [
    "empty_dict={}"
   ]
  },
  {
   "cell_type": "code",
   "execution_count": 2,
   "id": "4fcbd77a",
   "metadata": {},
   "outputs": [
    {
     "data": {
      "text/plain": [
       "dict"
      ]
     },
     "execution_count": 2,
     "metadata": {},
     "output_type": "execute_result"
    }
   ],
   "source": [
    "type(empty_dict)"
   ]
  },
  {
   "cell_type": "code",
   "execution_count": 4,
   "id": "c9937f07",
   "metadata": {},
   "outputs": [],
   "source": [
    "acme_customer = {'first':'Wile','middle':'E', 'last':'Coyote'}"
   ]
  },
  {
   "cell_type": "code",
   "execution_count": 5,
   "id": "52fca440",
   "metadata": {},
   "outputs": [
    {
     "data": {
      "text/plain": [
       "{'first': 'Wile', 'middle': 'E', 'last': 'Coyote'}"
      ]
     },
     "execution_count": 5,
     "metadata": {},
     "output_type": "execute_result"
    }
   ],
   "source": [
    "acme_customer"
   ]
  },
  {
   "cell_type": "code",
   "execution_count": 6,
   "id": "8dcac034",
   "metadata": {},
   "outputs": [
    {
     "data": {
      "text/plain": [
       "'Wile'"
      ]
     },
     "execution_count": 6,
     "metadata": {},
     "output_type": "execute_result"
    }
   ],
   "source": [
    "acme_customer['first']"
   ]
  },
  {
   "cell_type": "code",
   "execution_count": 7,
   "id": "9ab93d2e",
   "metadata": {},
   "outputs": [],
   "source": [
    "los = ['ab','cd','ef']"
   ]
  },
  {
   "cell_type": "code",
   "execution_count": 9,
   "id": "168e3dbf",
   "metadata": {},
   "outputs": [],
   "source": [
    "dict_los = dict(los)"
   ]
  },
  {
   "cell_type": "code",
   "execution_count": 10,
   "id": "1d353abb",
   "metadata": {},
   "outputs": [
    {
     "data": {
      "text/plain": [
       "('b', 'f')"
      ]
     },
     "execution_count": 10,
     "metadata": {},
     "output_type": "execute_result"
    }
   ],
   "source": [
    "dict_los['a'], dict_los['e']"
   ]
  },
  {
   "cell_type": "code",
   "execution_count": 11,
   "id": "7c8373b4",
   "metadata": {},
   "outputs": [],
   "source": [
    "signals={'green':'go', 'yellow':'go faster', 'red':'smile for the camera'}"
   ]
  },
  {
   "cell_type": "code",
   "execution_count": 12,
   "id": "45e5d19d",
   "metadata": {},
   "outputs": [],
   "source": [
    "signals['green']='run'"
   ]
  },
  {
   "cell_type": "code",
   "execution_count": 13,
   "id": "1621c30a",
   "metadata": {},
   "outputs": [
    {
     "data": {
      "text/plain": [
       "{'green': 'run', 'yellow': 'go faster', 'red': 'smile for the camera'}"
      ]
     },
     "execution_count": 13,
     "metadata": {},
     "output_type": "execute_result"
    }
   ],
   "source": [
    "signals"
   ]
  },
  {
   "cell_type": "raw",
   "id": "a2ea258f",
   "metadata": {},
   "source": [
    "signals.keys()"
   ]
  },
  {
   "cell_type": "code",
   "execution_count": 15,
   "id": "ed4b8a18",
   "metadata": {},
   "outputs": [
    {
     "data": {
      "text/plain": [
       "dict_items([('green', 'run'), ('yellow', 'go faster'), ('red', 'smile for the camera')])"
      ]
     },
     "execution_count": 15,
     "metadata": {},
     "output_type": "execute_result"
    }
   ],
   "source": [
    "signals.items()"
   ]
  },
  {
   "cell_type": "code",
   "execution_count": 16,
   "id": "a3764f43",
   "metadata": {},
   "outputs": [
    {
     "data": {
      "text/plain": [
       "dict_values(['run', 'go faster', 'smile for the camera'])"
      ]
     },
     "execution_count": 16,
     "metadata": {},
     "output_type": "execute_result"
    }
   ],
   "source": [
    "signals.values()"
   ]
  },
  {
   "cell_type": "code",
   "execution_count": 17,
   "id": "9cd29027",
   "metadata": {},
   "outputs": [],
   "source": [
    "signals['blue'] = 'cry'"
   ]
  },
  {
   "cell_type": "code",
   "execution_count": 18,
   "id": "4aa333a7",
   "metadata": {},
   "outputs": [
    {
     "data": {
      "text/plain": [
       "{'green': 'run',\n",
       " 'yellow': 'go faster',\n",
       " 'red': 'smile for the camera',\n",
       " 'blue': 'cry'}"
      ]
     },
     "execution_count": 18,
     "metadata": {},
     "output_type": "execute_result"
    }
   ],
   "source": [
    "signals"
   ]
  },
  {
   "cell_type": "code",
   "execution_count": 19,
   "id": "a420f68c",
   "metadata": {},
   "outputs": [],
   "source": [
    "signals['black']='run'"
   ]
  },
  {
   "cell_type": "code",
   "execution_count": 20,
   "id": "5c7f720a",
   "metadata": {},
   "outputs": [],
   "source": [
    "del signals['green']"
   ]
  },
  {
   "cell_type": "code",
   "execution_count": 21,
   "id": "51e25560",
   "metadata": {},
   "outputs": [
    {
     "data": {
      "text/plain": [
       "{'yellow': 'go faster',\n",
       " 'red': 'smile for the camera',\n",
       " 'blue': 'cry',\n",
       " 'black': 'run'}"
      ]
     },
     "execution_count": 21,
     "metadata": {},
     "output_type": "execute_result"
    }
   ],
   "source": [
    "signals"
   ]
  },
  {
   "cell_type": "code",
   "execution_count": 22,
   "id": "43c465ab",
   "metadata": {},
   "outputs": [],
   "source": [
    "signals['orange']=signals.pop('yellow')"
   ]
  },
  {
   "cell_type": "code",
   "execution_count": 23,
   "id": "cc15c629",
   "metadata": {},
   "outputs": [],
   "source": [
    "signals.update({'white':'laugh','pink':'blink'})"
   ]
  },
  {
   "cell_type": "code",
   "execution_count": 24,
   "id": "121e25c5",
   "metadata": {},
   "outputs": [
    {
     "data": {
      "text/plain": [
       "{'red': 'smile for the camera',\n",
       " 'blue': 'cry',\n",
       " 'black': 'run',\n",
       " 'orange': 'go faster',\n",
       " 'white': 'laugh',\n",
       " 'pink': 'blink'}"
      ]
     },
     "execution_count": 24,
     "metadata": {},
     "output_type": "execute_result"
    }
   ],
   "source": [
    "signals"
   ]
  },
  {
   "cell_type": "code",
   "execution_count": 31,
   "id": "0c622883",
   "metadata": {},
   "outputs": [],
   "source": [
    "mylist=list(range(1,9))"
   ]
  },
  {
   "cell_type": "code",
   "execution_count": 32,
   "id": "ff463cd6",
   "metadata": {},
   "outputs": [],
   "source": [
    "blist=mylist.copy()"
   ]
  },
  {
   "cell_type": "code",
   "execution_count": 33,
   "id": "e4f396ee",
   "metadata": {},
   "outputs": [],
   "source": [
    "blist[0]=1000"
   ]
  },
  {
   "cell_type": "code",
   "execution_count": 34,
   "id": "7e72ca39",
   "metadata": {},
   "outputs": [
    {
     "data": {
      "text/plain": [
       "[1, 2, 3, 4, 5, 6, 7, 8]"
      ]
     },
     "execution_count": 34,
     "metadata": {},
     "output_type": "execute_result"
    }
   ],
   "source": [
    "mylist"
   ]
  },
  {
   "cell_type": "code",
   "execution_count": 35,
   "id": "ecb64d16",
   "metadata": {},
   "outputs": [],
   "source": [
    "word = 'letters'"
   ]
  },
  {
   "cell_type": "code",
   "execution_count": 36,
   "id": "3508b1e7",
   "metadata": {},
   "outputs": [
    {
     "data": {
      "text/plain": [
       "2"
      ]
     },
     "execution_count": 36,
     "metadata": {},
     "output_type": "execute_result"
    }
   ],
   "source": [
    "word.count('e')"
   ]
  },
  {
   "cell_type": "code",
   "execution_count": 39,
   "id": "c948e09f",
   "metadata": {},
   "outputs": [
    {
     "data": {
      "text/plain": [
       "{'l': 1, 'e': 2, 't': 2, 'r': 1, 's': 1}"
      ]
     },
     "execution_count": 39,
     "metadata": {},
     "output_type": "execute_result"
    }
   ],
   "source": [
    "{letter:word.count(letter) for letter in word}"
   ]
  },
  {
   "cell_type": "code",
   "execution_count": 40,
   "id": "5c3db332",
   "metadata": {},
   "outputs": [
    {
     "data": {
      "text/plain": [
       "[1, 2, 2, 2, 2, 1, 1]"
      ]
     },
     "execution_count": 40,
     "metadata": {},
     "output_type": "execute_result"
    }
   ],
   "source": [
    "[word.count(letter) for letter in word]"
   ]
  },
  {
   "cell_type": "code",
   "execution_count": 41,
   "id": "4824b2e1",
   "metadata": {},
   "outputs": [
    {
     "data": {
      "text/plain": [
       "{'e', 'l', 'r', 's', 't'}"
      ]
     },
     "execution_count": 41,
     "metadata": {},
     "output_type": "execute_result"
    }
   ],
   "source": [
    "set(word)"
   ]
  },
  {
   "cell_type": "code",
   "execution_count": 42,
   "id": "da85fc07",
   "metadata": {},
   "outputs": [
    {
     "data": {
      "text/plain": [
       "{'e': 2, 's': 1, 't': 2, 'r': 1, 'l': 1}"
      ]
     },
     "execution_count": 42,
     "metadata": {},
     "output_type": "execute_result"
    }
   ],
   "source": [
    "{letter:word.count(letter) for letter in set(word)}"
   ]
  },
  {
   "cell_type": "code",
   "execution_count": null,
   "id": "1a72c34a",
   "metadata": {},
   "outputs": [],
   "source": []
  }
 ],
 "metadata": {
  "kernelspec": {
   "display_name": "Python 3",
   "language": "python",
   "name": "python3"
  },
  "language_info": {
   "codemirror_mode": {
    "name": "ipython",
    "version": 3
   },
   "file_extension": ".py",
   "mimetype": "text/x-python",
   "name": "python",
   "nbconvert_exporter": "python",
   "pygments_lexer": "ipython3",
   "version": "3.8.8"
  }
 },
 "nbformat": 4,
 "nbformat_minor": 5
}
