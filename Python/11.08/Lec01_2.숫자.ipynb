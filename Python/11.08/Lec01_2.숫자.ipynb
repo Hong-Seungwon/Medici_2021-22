{
 "cells": [
  {
   "cell_type": "code",
   "execution_count": 1,
   "id": "adac5cad",
   "metadata": {},
   "outputs": [
    {
     "data": {
      "text/plain": [
       "(True, False, 42, 3.145)"
      ]
     },
     "execution_count": 1,
     "metadata": {},
     "output_type": "execute_result"
    }
   ],
   "source": [
    "True, False, 42, 3.145"
   ]
  },
  {
   "cell_type": "code",
   "execution_count": 2,
   "id": "63690e9a",
   "metadata": {},
   "outputs": [
    {
     "data": {
      "text/plain": [
       "100"
      ]
     },
     "execution_count": 2,
     "metadata": {},
     "output_type": "execute_result"
    }
   ],
   "source": [
    "100"
   ]
  },
  {
   "cell_type": "code",
   "execution_count": 3,
   "id": "5069d03e",
   "metadata": {},
   "outputs": [
    {
     "data": {
      "text/plain": [
       "(0, 0.0, False)"
      ]
     },
     "execution_count": 3,
     "metadata": {},
     "output_type": "execute_result"
    }
   ],
   "source": [
    "int(),float(),bool()"
   ]
  },
  {
   "cell_type": "code",
   "execution_count": 8,
   "id": "1d1699a2",
   "metadata": {},
   "outputs": [
    {
     "data": {
      "text/plain": [
       "(100, True, 100.5, True, False, False)"
      ]
     },
     "execution_count": 8,
     "metadata": {},
     "output_type": "execute_result"
    }
   ],
   "source": [
    "x=100.5\n",
    "int(x), bool(x), float(x), bool(-45), bool(0), bool(0.0)"
   ]
  },
  {
   "cell_type": "code",
   "execution_count": 11,
   "id": "d1331a12",
   "metadata": {},
   "outputs": [
    {
     "data": {
      "text/plain": [
       "(5, 0, -100, 123)"
      ]
     },
     "execution_count": 11,
     "metadata": {},
     "output_type": "execute_result"
    }
   ],
   "source": [
    "5, 0, -100, +123, #05"
   ]
  },
  {
   "cell_type": "code",
   "execution_count": 13,
   "id": "75309c9c",
   "metadata": {},
   "outputs": [
    {
     "data": {
      "text/plain": [
       "(1, 0, 0, 1000000)"
      ]
     },
     "execution_count": 13,
     "metadata": {},
     "output_type": "execute_result"
    }
   ],
   "source": [
    "1,000,000, 1_000_000"
   ]
  },
  {
   "cell_type": "code",
   "execution_count": 14,
   "id": "23dccd55",
   "metadata": {},
   "outputs": [
    {
     "data": {
      "text/plain": [
       "(13, 80, 28, 3.5, 3, 1, 81)"
      ]
     },
     "execution_count": 14,
     "metadata": {},
     "output_type": "execute_result"
    }
   ],
   "source": [
    "5+8, 90-10, 4*7 , 7/2,7//2, 7%3, 3**4"
   ]
  },
  {
   "cell_type": "code",
   "execution_count": null,
   "id": "7a725018",
   "metadata": {},
   "outputs": [],
   "source": [
    "5+3"
   ]
  },
  {
   "cell_type": "code",
   "execution_count": 16,
   "id": "fe9c1289",
   "metadata": {},
   "outputs": [],
   "source": [
    "# 5/0"
   ]
  },
  {
   "cell_type": "code",
   "execution_count": 17,
   "id": "f664f0a9",
   "metadata": {},
   "outputs": [
    {
     "data": {
      "text/plain": [
       "92"
      ]
     },
     "execution_count": 17,
     "metadata": {},
     "output_type": "execute_result"
    }
   ],
   "source": [
    "a=95\n",
    "a=a-3\n",
    "a"
   ]
  },
  {
   "cell_type": "code",
   "execution_count": 19,
   "id": "3fd06cd2",
   "metadata": {},
   "outputs": [],
   "source": [
    "a-=3\n",
    "a*=3\n",
    "a/=3\n",
    "a+=3"
   ]
  },
  {
   "cell_type": "code",
   "execution_count": 20,
   "id": "304aaaab",
   "metadata": {},
   "outputs": [
    {
     "data": {
      "text/plain": [
       "(2, 1)"
      ]
     },
     "execution_count": 20,
     "metadata": {},
     "output_type": "execute_result"
    }
   ],
   "source": [
    "divmod(9,4)"
   ]
  },
  {
   "cell_type": "markdown",
   "id": "1c6549d7",
   "metadata": {},
   "source": [
    "#### 문자 함수"
   ]
  },
  {
   "cell_type": "code",
   "execution_count": 25,
   "id": "44a0aac6",
   "metadata": {},
   "outputs": [
    {
     "data": {
      "text/plain": [
       "(65, 'A', 'D')"
      ]
     },
     "execution_count": 25,
     "metadata": {},
     "output_type": "execute_result"
    }
   ],
   "source": [
    "ord('A'), chr(65), chr(ord('B')+2)"
   ]
  },
  {
   "cell_type": "code",
   "execution_count": 28,
   "id": "f04a5984",
   "metadata": {},
   "outputs": [
    {
     "data": {
      "text/plain": [
       "(44032, '갊')"
      ]
     },
     "execution_count": 28,
     "metadata": {},
     "output_type": "execute_result"
    }
   ],
   "source": [
    "ord('가'), chr(44032+10)"
   ]
  },
  {
   "cell_type": "code",
   "execution_count": 29,
   "id": "90e775e3",
   "metadata": {},
   "outputs": [
    {
     "data": {
      "text/plain": [
       "50.0"
      ]
     },
     "execution_count": 29,
     "metadata": {},
     "output_type": "execute_result"
    }
   ],
   "source": [
    "5e1\n",
    "5*(10**1)"
   ]
  },
  {
   "cell_type": "code",
   "execution_count": 30,
   "id": "5d9d1c05",
   "metadata": {},
   "outputs": [
    {
     "data": {
      "text/plain": [
       "0.5"
      ]
     },
     "execution_count": 30,
     "metadata": {},
     "output_type": "execute_result"
    }
   ],
   "source": [
    "0.5\n",
    "5*(10**-1)\n",
    "5e-1"
   ]
  },
  {
   "cell_type": "code",
   "execution_count": 32,
   "id": "5b26f9de",
   "metadata": {},
   "outputs": [
    {
     "data": {
      "text/plain": [
       "0.0005"
      ]
     },
     "execution_count": 32,
     "metadata": {},
     "output_type": "execute_result"
    }
   ],
   "source": [
    "0.0000005\n",
    "5e-7\n",
    "float(5.0e-4)"
   ]
  },
  {
   "cell_type": "code",
   "execution_count": null,
   "id": "92847a2e",
   "metadata": {},
   "outputs": [],
   "source": []
  }
 ],
 "metadata": {
  "kernelspec": {
   "display_name": "Python 3",
   "language": "python",
   "name": "python3"
  },
  "language_info": {
   "codemirror_mode": {
    "name": "ipython",
    "version": 3
   },
   "file_extension": ".py",
   "mimetype": "text/x-python",
   "name": "python",
   "nbconvert_exporter": "python",
   "pygments_lexer": "ipython3",
   "version": "3.8.8"
  }
 },
 "nbformat": 4,
 "nbformat_minor": 5
}
