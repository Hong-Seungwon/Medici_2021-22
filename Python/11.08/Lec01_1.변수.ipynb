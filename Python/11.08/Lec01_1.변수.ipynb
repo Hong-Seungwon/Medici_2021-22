{
 "cells": [
  {
   "cell_type": "markdown",
   "id": "c5b6d9f9",
   "metadata": {},
   "source": [
    "#### 변수 함수 할당"
   ]
  },
  {
   "cell_type": "code",
   "execution_count": 4,
   "id": "569e4fb5",
   "metadata": {},
   "outputs": [],
   "source": [
    "hap = sum([1,2,3])"
   ]
  },
  {
   "cell_type": "code",
   "execution_count": 5,
   "id": "729b12bb",
   "metadata": {},
   "outputs": [
    {
     "data": {
      "text/plain": [
       "6"
      ]
     },
     "execution_count": 5,
     "metadata": {},
     "output_type": "execute_result"
    }
   ],
   "source": [
    "hap"
   ]
  },
  {
   "cell_type": "code",
   "execution_count": 6,
   "id": "a34dda30",
   "metadata": {},
   "outputs": [
    {
     "data": {
      "text/plain": [
       "6"
      ]
     },
     "execution_count": 6,
     "metadata": {},
     "output_type": "execute_result"
    }
   ],
   "source": [
    "hap"
   ]
  },
  {
   "cell_type": "code",
   "execution_count": 8,
   "id": "630da0d8",
   "metadata": {},
   "outputs": [
    {
     "data": {
      "text/plain": [
       "type"
      ]
     },
     "execution_count": 8,
     "metadata": {},
     "output_type": "execute_result"
    }
   ],
   "source": [
    "type(type(hap))"
   ]
  },
  {
   "cell_type": "code",
   "execution_count": 10,
   "id": "46ff5741",
   "metadata": {},
   "outputs": [
    {
     "name": "stdout",
     "output_type": "stream",
     "text": [
      "100 3\n"
     ]
    }
   ],
   "source": [
    "a=100\n",
    "b=sum([1,2])\n",
    "print(a,b)"
   ]
  },
  {
   "cell_type": "code",
   "execution_count": 11,
   "id": "ad5809b5",
   "metadata": {},
   "outputs": [],
   "source": [
    "def myfun():\n",
    "    return 200"
   ]
  },
  {
   "cell_type": "code",
   "execution_count": 12,
   "id": "ed9651a6",
   "metadata": {},
   "outputs": [
    {
     "data": {
      "text/plain": [
       "200"
      ]
     },
     "execution_count": 12,
     "metadata": {},
     "output_type": "execute_result"
    }
   ],
   "source": [
    "myfun()"
   ]
  },
  {
   "cell_type": "code",
   "execution_count": 14,
   "id": "138caea9",
   "metadata": {},
   "outputs": [],
   "source": [
    "c=myfun()"
   ]
  },
  {
   "cell_type": "code",
   "execution_count": 16,
   "id": "918e7065",
   "metadata": {},
   "outputs": [],
   "source": [
    "myfun=300"
   ]
  },
  {
   "cell_type": "markdown",
   "id": "0f26e074",
   "metadata": {},
   "source": [
    "2.5 변수 이름"
   ]
  },
  {
   "cell_type": "code",
   "execution_count": 17,
   "id": "52cc859d",
   "metadata": {},
   "outputs": [],
   "source": [
    "import keyword"
   ]
  },
  {
   "cell_type": "code",
   "execution_count": 19,
   "id": "d446e77c",
   "metadata": {},
   "outputs": [
    {
     "data": {
      "text/plain": [
       "35"
      ]
     },
     "execution_count": 19,
     "metadata": {},
     "output_type": "execute_result"
    }
   ],
   "source": [
    "len(keyword.kwlist)"
   ]
  },
  {
   "cell_type": "markdown",
   "id": "4e6c7866",
   "metadata": {},
   "source": [
    "#### 2.6 변수 이름"
   ]
  },
  {
   "cell_type": "code",
   "execution_count": 20,
   "id": "e4c93b9b",
   "metadata": {},
   "outputs": [
    {
     "name": "stdout",
     "output_type": "stream",
     "text": [
      "7\n"
     ]
    }
   ],
   "source": [
    "a=7\n",
    "print(a)"
   ]
  },
  {
   "cell_type": "code",
   "execution_count": 21,
   "id": "c02cf4cc",
   "metadata": {},
   "outputs": [
    {
     "name": "stdout",
     "output_type": "stream",
     "text": [
      "7\n"
     ]
    }
   ],
   "source": [
    "b=a\n",
    "print(b)"
   ]
  },
  {
   "cell_type": "code",
   "execution_count": 22,
   "id": "26a61965",
   "metadata": {},
   "outputs": [
    {
     "data": {
      "text/plain": [
       "(7, 8)"
      ]
     },
     "execution_count": 22,
     "metadata": {},
     "output_type": "execute_result"
    }
   ],
   "source": [
    "b=8\n",
    "a,b"
   ]
  },
  {
   "cell_type": "code",
   "execution_count": 23,
   "id": "db867d40",
   "metadata": {},
   "outputs": [
    {
     "data": {
      "text/plain": [
       "(int, True, True)"
      ]
     },
     "execution_count": 23,
     "metadata": {},
     "output_type": "execute_result"
    }
   ],
   "source": [
    "type(7),type(7)==int, isinstance(7,int)"
   ]
  },
  {
   "cell_type": "code",
   "execution_count": 26,
   "id": "18552ecd",
   "metadata": {},
   "outputs": [
    {
     "data": {
      "text/plain": [
       "(int, float, str, str)"
      ]
     },
     "execution_count": 26,
     "metadata": {},
     "output_type": "execute_result"
    }
   ],
   "source": [
    "type(a), type(99.9), type('abc'), type(\"abc\")"
   ]
  },
  {
   "cell_type": "markdown",
   "id": "5da0b7cd",
   "metadata": {},
   "source": [
    "#### 2.10 복사"
   ]
  },
  {
   "cell_type": "code",
   "execution_count": 27,
   "id": "9b91a7e1",
   "metadata": {},
   "outputs": [
    {
     "data": {
      "text/plain": [
       "(29, 5)"
      ]
     },
     "execution_count": 27,
     "metadata": {},
     "output_type": "execute_result"
    }
   ],
   "source": [
    "x=5\n",
    "y=x\n",
    "x=29\n",
    "x,y"
   ]
  },
  {
   "cell_type": "code",
   "execution_count": 28,
   "id": "a3a9b2b1",
   "metadata": {},
   "outputs": [
    {
     "data": {
      "text/plain": [
       "([2, 4, 6], [2, 4, 6])"
      ]
     },
     "execution_count": 28,
     "metadata": {},
     "output_type": "execute_result"
    }
   ],
   "source": [
    "a=[2,4,6]\n",
    "b=a\n",
    "a,b"
   ]
  },
  {
   "cell_type": "code",
   "execution_count": 29,
   "id": "d949cf8e",
   "metadata": {},
   "outputs": [
    {
     "data": {
      "text/plain": [
       "([99, 4, 6], [99, 4, 6])"
      ]
     },
     "execution_count": 29,
     "metadata": {},
     "output_type": "execute_result"
    }
   ],
   "source": [
    "a[0]=99\n",
    "a,b"
   ]
  },
  {
   "cell_type": "code",
   "execution_count": 30,
   "id": "718b5547",
   "metadata": {},
   "outputs": [
    {
     "data": {
      "text/plain": [
       "(2181502458112, 2181502458112)"
      ]
     },
     "execution_count": 30,
     "metadata": {},
     "output_type": "execute_result"
    }
   ],
   "source": [
    "id(a), id(b)"
   ]
  },
  {
   "cell_type": "code",
   "execution_count": 31,
   "id": "47c3729f",
   "metadata": {},
   "outputs": [
    {
     "data": {
      "text/plain": [
       "(140729714944688, 140729714943920)"
      ]
     },
     "execution_count": 31,
     "metadata": {},
     "output_type": "execute_result"
    }
   ],
   "source": [
    "id(x), id(y)"
   ]
  },
  {
   "cell_type": "code",
   "execution_count": 32,
   "id": "20881186",
   "metadata": {},
   "outputs": [],
   "source": [
    "x=y"
   ]
  },
  {
   "cell_type": "code",
   "execution_count": 35,
   "id": "6b8b1a5d",
   "metadata": {},
   "outputs": [
    {
     "data": {
      "text/plain": [
       "(140729714943920, 140729714944048)"
      ]
     },
     "execution_count": 35,
     "metadata": {},
     "output_type": "execute_result"
    }
   ],
   "source": [
    "id(x), id(y)"
   ]
  },
  {
   "cell_type": "code",
   "execution_count": 34,
   "id": "4e3c5f38",
   "metadata": {},
   "outputs": [],
   "source": [
    "y=9"
   ]
  },
  {
   "cell_type": "code",
   "execution_count": 36,
   "id": "716630e2",
   "metadata": {},
   "outputs": [],
   "source": [
    "b=a[:]"
   ]
  },
  {
   "cell_type": "code",
   "execution_count": 37,
   "id": "7437cadb",
   "metadata": {},
   "outputs": [
    {
     "data": {
      "text/plain": [
       "(2181502458112, 2181481631168)"
      ]
     },
     "execution_count": 37,
     "metadata": {},
     "output_type": "execute_result"
    }
   ],
   "source": [
    "id(a),id(b)"
   ]
  },
  {
   "cell_type": "code",
   "execution_count": 38,
   "id": "847c9a9d",
   "metadata": {},
   "outputs": [
    {
     "data": {
      "text/plain": [
       "([100, 4, 6], [99, 4, 6])"
      ]
     },
     "execution_count": 38,
     "metadata": {},
     "output_type": "execute_result"
    }
   ],
   "source": [
    "a[0]=100\n",
    "a,b"
   ]
  },
  {
   "cell_type": "markdown",
   "id": "dfd1ffca",
   "metadata": {},
   "source": [
    "#### 2.11 좋은 이름 Naming conventions"
   ]
  },
  {
   "cell_type": "code",
   "execution_count": 39,
   "id": "c113a53a",
   "metadata": {},
   "outputs": [],
   "source": [
    "number_of_loons=0\n",
    "gaviidae_inventory=0\n",
    "numm_loons=0 # snake\n",
    "numberOfFields=0 #camel\n",
    "MyClass=0 #pascal"
   ]
  },
  {
   "cell_type": "code",
   "execution_count": null,
   "id": "8779a9e7",
   "metadata": {},
   "outputs": [],
   "source": []
  }
 ],
 "metadata": {
  "kernelspec": {
   "display_name": "Python 3",
   "language": "python",
   "name": "python3"
  },
  "language_info": {
   "codemirror_mode": {
    "name": "ipython",
    "version": 3
   },
   "file_extension": ".py",
   "mimetype": "text/x-python",
   "name": "python",
   "nbconvert_exporter": "python",
   "pygments_lexer": "ipython3",
   "version": "3.8.8"
  }
 },
 "nbformat": 4,
 "nbformat_minor": 5
}
