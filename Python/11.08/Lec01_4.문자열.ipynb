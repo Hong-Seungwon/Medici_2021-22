{
 "cells": [
  {
   "cell_type": "code",
   "execution_count": 1,
   "id": "2dc9869b",
   "metadata": {},
   "outputs": [
    {
     "data": {
      "text/plain": [
       "('Snap', 'Snap')"
      ]
     },
     "execution_count": 1,
     "metadata": {},
     "output_type": "execute_result"
    }
   ],
   "source": [
    "\"Snap\", 'Snap'"
   ]
  },
  {
   "cell_type": "code",
   "execution_count": 4,
   "id": "1b75d820",
   "metadata": {},
   "outputs": [
    {
     "data": {
      "text/plain": [
       "('hi', 'bye')"
      ]
     },
     "execution_count": 4,
     "metadata": {},
     "output_type": "execute_result"
    }
   ],
   "source": [
    "\"hi\", 'bye'"
   ]
  },
  {
   "cell_type": "code",
   "execution_count": 5,
   "id": "ae4125f2",
   "metadata": {},
   "outputs": [
    {
     "data": {
      "text/plain": [
       "\"\\nYesterday\\n   All my troubles seemed so far away\\nNow it looks as though ther're \\nOh, I believe in yesterday\\n\""
      ]
     },
     "execution_count": 5,
     "metadata": {},
     "output_type": "execute_result"
    }
   ],
   "source": [
    "\"\"\"\n",
    "Yesterday\n",
    "   All my troubles seemed so far away\n",
    "Now it looks as though ther're \n",
    "Oh, I believe in yesterday\n",
    "\"\"\""
   ]
  },
  {
   "cell_type": "code",
   "execution_count": 6,
   "id": "e7dd22ca",
   "metadata": {},
   "outputs": [
    {
     "data": {
      "text/plain": [
       "('', '', '', '')"
      ]
     },
     "execution_count": 6,
     "metadata": {},
     "output_type": "execute_result"
    }
   ],
   "source": [
    "'',\"\",'''''',\"\"\"\"\"\""
   ]
  },
  {
   "cell_type": "code",
   "execution_count": 7,
   "id": "da92f09c",
   "metadata": {},
   "outputs": [
    {
     "data": {
      "text/plain": [
       "('98.6', '0.0001', 'False')"
      ]
     },
     "execution_count": 7,
     "metadata": {},
     "output_type": "execute_result"
    }
   ],
   "source": [
    "str(98.6), str(1.0e-4), str(False)"
   ]
  },
  {
   "cell_type": "code",
   "execution_count": 8,
   "id": "2b1d934c",
   "metadata": {},
   "outputs": [
    {
     "ename": "SyntaxError",
     "evalue": "unexpected character after line continuation character (<ipython-input-8-21e7b76ca6d7>, line 1)",
     "output_type": "error",
     "traceback": [
      "\u001b[1;36m  File \u001b[1;32m\"<ipython-input-8-21e7b76ca6d7>\"\u001b[1;36m, line \u001b[1;32m1\u001b[0m\n\u001b[1;33m    \\n, \\t, \\', \\\"\u001b[0m\n\u001b[1;37m                  ^\u001b[0m\n\u001b[1;31mSyntaxError\u001b[0m\u001b[1;31m:\u001b[0m unexpected character after line continuation character\n"
     ]
    }
   ],
   "source": [
    "\\n, \\t, \\', \\\""
   ]
  },
  {
   "cell_type": "code",
   "execution_count": 9,
   "id": "3f52c235",
   "metadata": {},
   "outputs": [
    {
     "data": {
      "text/plain": [
       "'Type a \\\\n to get a new '"
      ]
     },
     "execution_count": 9,
     "metadata": {},
     "output_type": "execute_result"
    }
   ],
   "source": [
    "info = r'Type a \\n to get a new '\n",
    "info"
   ]
  },
  {
   "cell_type": "code",
   "execution_count": 10,
   "id": "473686a7",
   "metadata": {},
   "outputs": [
    {
     "name": "stdout",
     "output_type": "stream",
     "text": [
      "Type a \\n to get a new \n"
     ]
    }
   ],
   "source": [
    "print(info)"
   ]
  },
  {
   "cell_type": "code",
   "execution_count": 12,
   "id": "e82562b9",
   "metadata": {},
   "outputs": [
    {
     "data": {
      "text/plain": [
       "'그립다 말을 할까'"
      ]
     },
     "execution_count": 12,
     "metadata": {},
     "output_type": "execute_result"
    }
   ],
   "source": [
    "\"그립다 \"+\"말을 할까\"\n",
    "\"그립다 \"\"말을 할까\""
   ]
  },
  {
   "cell_type": "code",
   "execution_count": 14,
   "id": "0687756c",
   "metadata": {},
   "outputs": [
    {
     "data": {
      "text/plain": [
       "('나는나는나는나는나는나는나는나는나는나는나는나는나는나는나는나는나는나는나는나는', '--------------------')"
      ]
     },
     "execution_count": 14,
     "metadata": {},
     "output_type": "execute_result"
    }
   ],
   "source": [
    "\"나는\"*20, 20*\"-\""
   ]
  },
  {
   "cell_type": "code",
   "execution_count": 15,
   "id": "baa32a62",
   "metadata": {},
   "outputs": [],
   "source": [
    "letters = 'abcdefghijklnmopqrstuvwxyz'"
   ]
  },
  {
   "cell_type": "code",
   "execution_count": 17,
   "id": "c55c3a08",
   "metadata": {},
   "outputs": [
    {
     "data": {
      "text/plain": [
       "('a', 'z', 'y')"
      ]
     },
     "execution_count": 17,
     "metadata": {},
     "output_type": "execute_result"
    }
   ],
   "source": [
    "letters[0],letters[-1], letters[-2]"
   ]
  },
  {
   "cell_type": "code",
   "execution_count": 18,
   "id": "ee120767",
   "metadata": {},
   "outputs": [
    {
     "data": {
      "text/plain": [
       "'abcdefghijklnmopqrstuvwxy'"
      ]
     },
     "execution_count": 18,
     "metadata": {},
     "output_type": "execute_result"
    }
   ],
   "source": [
    "letters[0:-1]"
   ]
  },
  {
   "cell_type": "code",
   "execution_count": 20,
   "id": "c4fb3626",
   "metadata": {},
   "outputs": [
    {
     "data": {
      "text/plain": [
       "'acegiknoqsuwy'"
      ]
     },
     "execution_count": 20,
     "metadata": {},
     "output_type": "execute_result"
    }
   ],
   "source": [
    "letters[0::2]"
   ]
  },
  {
   "cell_type": "code",
   "execution_count": 22,
   "id": "46bb8585",
   "metadata": {},
   "outputs": [
    {
     "data": {
      "text/plain": [
       "'zyxwvutsrqpomnlkjihgfedcba'"
      ]
     },
     "execution_count": 22,
     "metadata": {},
     "output_type": "execute_result"
    }
   ],
   "source": [
    "letters[-1::-1]"
   ]
  },
  {
   "cell_type": "code",
   "execution_count": 23,
   "id": "d5faca24",
   "metadata": {},
   "outputs": [
    {
     "data": {
      "text/plain": [
       "'ehkmqt'"
      ]
     },
     "execution_count": 23,
     "metadata": {},
     "output_type": "execute_result"
    }
   ],
   "source": [
    "letters[4:20:3]"
   ]
  },
  {
   "cell_type": "code",
   "execution_count": 24,
   "id": "dbd318a8",
   "metadata": {},
   "outputs": [
    {
     "data": {
      "text/plain": [
       "26"
      ]
     },
     "execution_count": 24,
     "metadata": {},
     "output_type": "execute_result"
    }
   ],
   "source": [
    "len(letters)"
   ]
  },
  {
   "cell_type": "code",
   "execution_count": 27,
   "id": "7ff8841f",
   "metadata": {},
   "outputs": [],
   "source": [
    "tasks = 'get gloves,get mask,give cat vitammins,call ambulance'"
   ]
  },
  {
   "cell_type": "code",
   "execution_count": 28,
   "id": "b1a01c04",
   "metadata": {},
   "outputs": [
    {
     "data": {
      "text/plain": [
       "['get', 'gloves,get', 'mask,give', 'cat', 'vitammins,call', 'ambulance']"
      ]
     },
     "execution_count": 28,
     "metadata": {},
     "output_type": "execute_result"
    }
   ],
   "source": [
    "tasks.split()"
   ]
  },
  {
   "cell_type": "code",
   "execution_count": 30,
   "id": "04dc09bc",
   "metadata": {},
   "outputs": [
    {
     "data": {
      "text/plain": [
       "['get gloves', 'get mask', 'give cat vitammins', 'call ambulance']"
      ]
     },
     "execution_count": 30,
     "metadata": {},
     "output_type": "execute_result"
    }
   ],
   "source": [
    "tasks.split(',')"
   ]
  },
  {
   "cell_type": "code",
   "execution_count": 31,
   "id": "e96be843",
   "metadata": {},
   "outputs": [],
   "source": [
    "result=tasks.split(',')"
   ]
  },
  {
   "cell_type": "code",
   "execution_count": 32,
   "id": "4a14952b",
   "metadata": {},
   "outputs": [
    {
     "data": {
      "text/plain": [
       "['get gloves', 'get mask', 'give cat vitammins', 'call ambulance']"
      ]
     },
     "execution_count": 32,
     "metadata": {},
     "output_type": "execute_result"
    }
   ],
   "source": [
    "result"
   ]
  },
  {
   "cell_type": "code",
   "execution_count": 43,
   "id": "115c48f9",
   "metadata": {},
   "outputs": [
    {
     "data": {
      "text/plain": [
       "'gloves'"
      ]
     },
     "execution_count": 43,
     "metadata": {},
     "output_type": "execute_result"
    }
   ],
   "source": [
    "result[0][4:][::-1][::-1]"
   ]
  },
  {
   "cell_type": "code",
   "execution_count": 44,
   "id": "7ad1bbc8",
   "metadata": {},
   "outputs": [],
   "source": [
    "fruit= ['apple','banana','mango','dragon fruit']"
   ]
  },
  {
   "cell_type": "code",
   "execution_count": 45,
   "id": "75e9f806",
   "metadata": {},
   "outputs": [
    {
     "data": {
      "text/plain": [
       "'apple:banana:mango:dragon fruit'"
      ]
     },
     "execution_count": 45,
     "metadata": {},
     "output_type": "execute_result"
    }
   ],
   "source": [
    "':'.join(fruit)"
   ]
  },
  {
   "cell_type": "code",
   "execution_count": 48,
   "id": "88807b61",
   "metadata": {},
   "outputs": [],
   "source": [
    "fruit_s=' '.join(fruit)"
   ]
  },
  {
   "cell_type": "code",
   "execution_count": 49,
   "id": "e6d3d397",
   "metadata": {},
   "outputs": [
    {
     "data": {
      "text/plain": [
       "'apple potato mango dragon fruit'"
      ]
     },
     "execution_count": 49,
     "metadata": {},
     "output_type": "execute_result"
    }
   ],
   "source": [
    "fruit_s.replace('banana','potato')"
   ]
  },
  {
   "cell_type": "code",
   "execution_count": 57,
   "id": "9dc39a99",
   "metadata": {},
   "outputs": [],
   "source": [
    "world=\"  earth \""
   ]
  },
  {
   "cell_type": "code",
   "execution_count": 59,
   "id": "9df58ba3",
   "metadata": {},
   "outputs": [
    {
     "data": {
      "text/plain": [
       "('earth', 'earth ', '  earth')"
      ]
     },
     "execution_count": 59,
     "metadata": {},
     "output_type": "execute_result"
    }
   ],
   "source": [
    "world.strip(), world.lstrip(), world.rstrip()"
   ]
  },
  {
   "cell_type": "code",
   "execution_count": 60,
   "id": "babc51a3",
   "metadata": {},
   "outputs": [
    {
     "data": {
      "text/plain": [
       "'apple banana'"
      ]
     },
     "execution_count": 60,
     "metadata": {},
     "output_type": "execute_result"
    }
   ],
   "source": [
    "fruit_s[:12]"
   ]
  },
  {
   "cell_type": "code",
   "execution_count": 65,
   "id": "3e85a696",
   "metadata": {},
   "outputs": [
    {
     "data": {
      "text/plain": [
       "(True, False)"
      ]
     },
     "execution_count": 65,
     "metadata": {},
     "output_type": "execute_result"
    }
   ],
   "source": [
    "fruit_s.startswith(\"a\"), fruit_s.endswith(\"drago\")"
   ]
  },
  {
   "cell_type": "code",
   "execution_count": 66,
   "id": "29e3ed54",
   "metadata": {},
   "outputs": [
    {
     "data": {
      "text/plain": [
       "6"
      ]
     },
     "execution_count": 66,
     "metadata": {},
     "output_type": "execute_result"
    }
   ],
   "source": [
    "fruit_s.find(\"banana\")"
   ]
  },
  {
   "cell_type": "code",
   "execution_count": null,
   "id": "0366e288",
   "metadata": {},
   "outputs": [],
   "source": []
  }
 ],
 "metadata": {
  "kernelspec": {
   "display_name": "Python 3",
   "language": "python",
   "name": "python3"
  },
  "language_info": {
   "codemirror_mode": {
    "name": "ipython",
    "version": 3
   },
   "file_extension": ".py",
   "mimetype": "text/x-python",
   "name": "python",
   "nbconvert_exporter": "python",
   "pygments_lexer": "ipython3",
   "version": "3.8.8"
  }
 },
 "nbformat": 4,
 "nbformat_minor": 5
}
