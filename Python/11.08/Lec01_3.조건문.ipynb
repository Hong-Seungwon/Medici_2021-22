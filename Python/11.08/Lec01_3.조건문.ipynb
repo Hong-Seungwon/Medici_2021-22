{
 "cells": [
  {
   "cell_type": "markdown",
   "id": "e15c805a",
   "metadata": {},
   "source": [
    "### if elif else"
   ]
  },
  {
   "cell_type": "code",
   "execution_count": 4,
   "id": "1d7edae6",
   "metadata": {},
   "outputs": [
    {
     "name": "stdout",
     "output_type": "stream",
     "text": [
      "Wee!\n",
      "if문 탈출\n"
     ]
    }
   ],
   "source": [
    "if False :\n",
    "    print(\"Woe!\")\n",
    "else:\n",
    "    print(\"Wee!\")\n",
    "    \n",
    "print(\"if문 탈출\")"
   ]
  },
  {
   "cell_type": "markdown",
   "id": "45d60b5c",
   "metadata": {},
   "source": [
    "## 조건식\n",
    "==, !=, <, <=, >, >=, and, or, not"
   ]
  },
  {
   "cell_type": "code",
   "execution_count": 5,
   "id": "9bf5394f",
   "metadata": {},
   "outputs": [
    {
     "data": {
      "text/plain": [
       "(False, True, False, False)"
      ]
     },
     "execution_count": 5,
     "metadata": {},
     "output_type": "execute_result"
    }
   ],
   "source": [
    "x=7\n",
    "x==5, x==7, x<5, x>10"
   ]
  },
  {
   "cell_type": "code",
   "execution_count": 7,
   "id": "4f9901b6",
   "metadata": {},
   "outputs": [
    {
     "data": {
      "text/plain": [
       "(True, True, True)"
      ]
     },
     "execution_count": 7,
     "metadata": {},
     "output_type": "execute_result"
    }
   ],
   "source": [
    "5<x and x<10, (5<x) and (x<10), (5<x) or not (x<10)"
   ]
  },
  {
   "cell_type": "code",
   "execution_count": 8,
   "id": "7337eefd",
   "metadata": {},
   "outputs": [
    {
     "data": {
      "text/plain": [
       "(False, False, False, False, False, False)"
      ]
     },
     "execution_count": 8,
     "metadata": {},
     "output_type": "execute_result"
    }
   ],
   "source": [
    "bool(None), bool(0), bool(''), bool([]), bool({}), bool(())"
   ]
  },
  {
   "cell_type": "code",
   "execution_count": 10,
   "id": "0db3753f",
   "metadata": {},
   "outputs": [
    {
     "data": {
      "text/plain": [
       "(True, True, True)"
      ]
     },
     "execution_count": 10,
     "metadata": {},
     "output_type": "execute_result"
    }
   ],
   "source": [
    "bool([0]),bool({0}), bool((0,0))"
   ]
  },
  {
   "cell_type": "markdown",
   "id": "007efac4",
   "metadata": {},
   "source": [
    "#### membership operator in"
   ]
  },
  {
   "cell_type": "code",
   "execution_count": 11,
   "id": "ee78115f",
   "metadata": {},
   "outputs": [
    {
     "data": {
      "text/plain": [
       "(True, 2, \"I'mhappy\")"
      ]
     },
     "execution_count": 11,
     "metadata": {},
     "output_type": "execute_result"
    }
   ],
   "source": [
    "'a' in 'aeiou', 1+1, \"I'm\"+\"happy\""
   ]
  },
  {
   "cell_type": "code",
   "execution_count": 13,
   "id": "4ae594ad",
   "metadata": {},
   "outputs": [
    {
     "name": "stdout",
     "output_type": "stream",
     "text": [
      "a is a vowel\n"
     ]
    }
   ],
   "source": [
    "if 'a' in 'aeiou':\n",
    "    print('a', 'is a vowel')\n",
    "else:\n",
    "    print(\"포함안되어 있음\")"
   ]
  },
  {
   "cell_type": "code",
   "execution_count": 19,
   "id": "4d3bbdd9",
   "metadata": {},
   "outputs": [
    {
     "data": {
      "text/plain": [
       "(['a', 'e', 'i', 'o', 'u'],\n",
       " {'a', 'e', 'i', 'o', 'u'},\n",
       " ('a', 'e', 'i', 'o', 'u'))"
      ]
     },
     "execution_count": 19,
     "metadata": {},
     "output_type": "execute_result"
    }
   ],
   "source": [
    "#[] {} ()\n",
    "list('aeiou'), set('aeiou'), tuple('aeiou')"
   ]
  },
  {
   "cell_type": "code",
   "execution_count": 14,
   "id": "caf64b80",
   "metadata": {},
   "outputs": [
    {
     "data": {
      "text/plain": [
       "True"
      ]
     },
     "execution_count": 14,
     "metadata": {},
     "output_type": "execute_result"
    }
   ],
   "source": [
    "'a' in ['a','e','i','o','u'] # list"
   ]
  },
  {
   "cell_type": "code",
   "execution_count": 15,
   "id": "16dc8990",
   "metadata": {},
   "outputs": [
    {
     "data": {
      "text/plain": [
       "True"
      ]
     },
     "execution_count": 15,
     "metadata": {},
     "output_type": "execute_result"
    }
   ],
   "source": [
    "'a' in ('a','e','i','o','u') # tuple"
   ]
  },
  {
   "cell_type": "code",
   "execution_count": 16,
   "id": "e740202d",
   "metadata": {},
   "outputs": [
    {
     "data": {
      "text/plain": [
       "True"
      ]
     },
     "execution_count": 16,
     "metadata": {},
     "output_type": "execute_result"
    }
   ],
   "source": [
    "'a' in {'a','e','i','o','u'} # set"
   ]
  },
  {
   "cell_type": "code",
   "execution_count": null,
   "id": "3edaf5ef",
   "metadata": {},
   "outputs": [],
   "source": []
  }
 ],
 "metadata": {
  "kernelspec": {
   "display_name": "Python 3",
   "language": "python",
   "name": "python3"
  },
  "language_info": {
   "codemirror_mode": {
    "name": "ipython",
    "version": 3
   },
   "file_extension": ".py",
   "mimetype": "text/x-python",
   "name": "python",
   "nbconvert_exporter": "python",
   "pygments_lexer": "ipython3",
   "version": "3.8.8"
  }
 },
 "nbformat": 4,
 "nbformat_minor": 5
}
