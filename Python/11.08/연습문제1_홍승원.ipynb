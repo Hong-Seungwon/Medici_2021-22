{
 "cells": [
  {
   "cell_type": "markdown",
   "id": "00420157",
   "metadata": {},
   "source": [
    "#### 2.1 정수 99를 변수 prince에 할당하고 출력"
   ]
  },
  {
   "cell_type": "code",
   "execution_count": 1,
   "id": "cb9b11d1",
   "metadata": {},
   "outputs": [
    {
     "name": "stdout",
     "output_type": "stream",
     "text": [
      "99\n"
     ]
    }
   ],
   "source": [
    "prince=99\n",
    "print(prince)"
   ]
  },
  {
   "cell_type": "markdown",
   "id": "9c71fbf4",
   "metadata": {},
   "source": [
    "#### 2.2 값 5는 어떤 타입인가?"
   ]
  },
  {
   "cell_type": "code",
   "execution_count": 2,
   "id": "45504cfd",
   "metadata": {},
   "outputs": [
    {
     "data": {
      "text/plain": [
       "int"
      ]
     },
     "execution_count": 2,
     "metadata": {},
     "output_type": "execute_result"
    }
   ],
   "source": [
    "type(5)"
   ]
  },
  {
   "cell_type": "markdown",
   "id": "a05e5988",
   "metadata": {},
   "source": [
    "#### 2.3 값 2.0은 어떤 타입인가?"
   ]
  },
  {
   "cell_type": "code",
   "execution_count": 3,
   "id": "26e43fa9",
   "metadata": {},
   "outputs": [
    {
     "data": {
      "text/plain": [
       "float"
      ]
     },
     "execution_count": 3,
     "metadata": {},
     "output_type": "execute_result"
    }
   ],
   "source": [
    "type(2.0)"
   ]
  },
  {
   "cell_type": "markdown",
   "id": "3ba82469",
   "metadata": {},
   "source": [
    "#### 2.4 표현식 5+2.0은 어떤 타입인가?"
   ]
  },
  {
   "cell_type": "code",
   "execution_count": 4,
   "id": "4f9d9ada",
   "metadata": {},
   "outputs": [
    {
     "data": {
      "text/plain": [
       "float"
      ]
     },
     "execution_count": 4,
     "metadata": {},
     "output_type": "execute_result"
    }
   ],
   "source": [
    "type(5+2.0)"
   ]
  },
  {
   "cell_type": "markdown",
   "id": "d560865c",
   "metadata": {},
   "source": [
    "#### 3.1 1시간은 몇 초인가, 대화식 인터프리터를 계산기로 사용해서 1시간(60분)에 1분(60초)을 곱한다."
   ]
  },
  {
   "cell_type": "code",
   "execution_count": 5,
   "id": "46dea691",
   "metadata": {},
   "outputs": [
    {
     "data": {
      "text/plain": [
       "3600"
      ]
     },
     "execution_count": 5,
     "metadata": {},
     "output_type": "execute_result"
    }
   ],
   "source": [
    "60*60"
   ]
  },
  {
   "cell_type": "markdown",
   "id": "39e0f834",
   "metadata": {},
   "source": [
    "#### 3.2 계산한 결과를 seconds_per_hour 변수에 저장"
   ]
  },
  {
   "cell_type": "code",
   "execution_count": 7,
   "id": "3a690f6f",
   "metadata": {},
   "outputs": [],
   "source": [
    "seconds_per_hour=3600"
   ]
  },
  {
   "cell_type": "markdown",
   "id": "7b073ddf",
   "metadata": {},
   "source": [
    "#### 3.3 1일은 몇 초인가? seconds_per_hour 변수를 사용"
   ]
  },
  {
   "cell_type": "code",
   "execution_count": 8,
   "id": "8b92bfa3",
   "metadata": {},
   "outputs": [
    {
     "data": {
      "text/plain": [
       "86400"
      ]
     },
     "execution_count": 8,
     "metadata": {},
     "output_type": "execute_result"
    }
   ],
   "source": [
    "24*seconds_per_hour"
   ]
  },
  {
   "cell_type": "markdown",
   "id": "6516aece",
   "metadata": {},
   "source": [
    "#### 3.4 계산한 결과를 seconds_per_day 변수에 저장"
   ]
  },
  {
   "cell_type": "code",
   "execution_count": 9,
   "id": "7dad1364",
   "metadata": {},
   "outputs": [],
   "source": [
    "seconds_per_day=86400"
   ]
  },
  {
   "cell_type": "markdown",
   "id": "f20ea1aa",
   "metadata": {},
   "source": [
    "#### 3.5 부동소수점(/) 나눗셈을 사용해서 seconds_per_day를 seconds_per_hour로 나누기"
   ]
  },
  {
   "cell_type": "code",
   "execution_count": 10,
   "id": "008c0c55",
   "metadata": {},
   "outputs": [
    {
     "data": {
      "text/plain": [
       "24.0"
      ]
     },
     "execution_count": 10,
     "metadata": {},
     "output_type": "execute_result"
    }
   ],
   "source": [
    "seconds_per_day/seconds_per_hour"
   ]
  },
  {
   "cell_type": "markdown",
   "id": "d7b79422",
   "metadata": {},
   "source": [
    "#### 정수(//) 나눗셈을 사용해서 seconds_per_day를 seconds_per_hour로 나누고,\n",
    "#### 3.5 문제 결과에서 본.0 부분을 제외하고 결과가 같은가?"
   ]
  },
  {
   "cell_type": "code",
   "execution_count": 12,
   "id": "2cdb9f28",
   "metadata": {},
   "outputs": [
    {
     "data": {
      "text/plain": [
       "24"
      ]
     },
     "execution_count": 12,
     "metadata": {},
     "output_type": "execute_result"
    }
   ],
   "source": [
    "seconds_per_day//seconds_per_hour"
   ]
  },
  {
   "cell_type": "markdown",
   "id": "016e470b",
   "metadata": {},
   "source": [
    "#### 4.1 1 ~ 10사이의 숫자를 선택해서 secret 변수에 할당, 1 ~ 10 사이의 다른 숫자를 선택해서 guess 변수에 할당. \n",
    "#### if,  elif, else 문을 사용하여 guess 변수가 secret 변수보다 작으면 'too low', 크면 'too high', 일치하면 'just right' 를 출력"
   ]
  },
  {
   "cell_type": "code",
   "execution_count": 17,
   "id": "721e68cd",
   "metadata": {},
   "outputs": [
    {
     "name": "stdout",
     "output_type": "stream",
     "text": [
      "too high\n"
     ]
    }
   ],
   "source": [
    "secret=2\n",
    "guess=7\n",
    "if guess > secret:\n",
    "    print('too high')\n",
    "elif guess < secret:\n",
    "    print('too low')\n",
    "else :\n",
    "    print('juse right')"
   ]
  },
  {
   "cell_type": "markdown",
   "id": "64ea29ab",
   "metadata": {},
   "source": [
    "#### 4.2 True나 False를 small과 green 변수에 할당. if, else문을 사용하여 작은 것(small)과 녹색(green)을 기준으로 체리, 완두콩,\n",
    "#### 수박, 호박(cherry, pea, watermelon, pumpkin)을 출력 (예: 체리는 작고 녹색이 아니다, 완두콩은 작고 녹색이다, 수박은 크고\n",
    "#### 녹색이다, 호박은 크고 녹색이 아니다)."
   ]
  },
  {
   "cell_type": "code",
   "execution_count": 35,
   "id": "1bd3202d",
   "metadata": {},
   "outputs": [
    {
     "name": "stdout",
     "output_type": "stream",
     "text": [
      "체리\n"
     ]
    }
   ],
   "source": [
    "small = True\n",
    "green = False\n",
    "if small:\n",
    "    if green:\n",
    "        print(\"완두콩\")\n",
    "    else:\n",
    "        print(\"체리\")\n",
    "else:\n",
    "    if green:\n",
    "        print(\"수박\")\n",
    "    else:\n",
    "        print(\"호박\")\n"
   ]
  },
  {
   "cell_type": "markdown",
   "id": "ef3ad51f",
   "metadata": {},
   "source": [
    "#### 5.1 m으로 시작하는 단어를 대문자로 만들어보자"
   ]
  },
  {
   "cell_type": "code",
   "execution_count": 28,
   "id": "ea2f3e0c",
   "metadata": {},
   "outputs": [],
   "source": [
    "song = \"\"\"When and eel grabs your arm,\n",
    "And it causes grat harm,\n",
    "That's - a moray!\"\"\""
   ]
  },
  {
   "cell_type": "code",
   "execution_count": 33,
   "id": "40c89ca6",
   "metadata": {},
   "outputs": [
    {
     "name": "stdout",
     "output_type": "stream",
     "text": [
      "When and eel grabs your arm,\n",
      "And it causes grat harm,\n",
      "That's - a Moray!\n"
     ]
    }
   ],
   "source": [
    "song=song.replace(\" m\",\" M\")\n",
    "print(song)"
   ]
  },
  {
   "cell_type": "code",
   "execution_count": null,
   "id": "394b66f3",
   "metadata": {},
   "outputs": [],
   "source": []
  },
  {
   "cell_type": "code",
   "execution_count": null,
   "id": "4c245992",
   "metadata": {},
   "outputs": [],
   "source": []
  },
  {
   "cell_type": "code",
   "execution_count": null,
   "id": "2b355cc4",
   "metadata": {},
   "outputs": [],
   "source": []
  }
 ],
 "metadata": {
  "kernelspec": {
   "display_name": "Python 3",
   "language": "python",
   "name": "python3"
  },
  "language_info": {
   "codemirror_mode": {
    "name": "ipython",
    "version": 3
   },
   "file_extension": ".py",
   "mimetype": "text/x-python",
   "name": "python",
   "nbconvert_exporter": "python",
   "pygments_lexer": "ipython3",
   "version": "3.8.8"
  }
 },
 "nbformat": 4,
 "nbformat_minor": 5
}
